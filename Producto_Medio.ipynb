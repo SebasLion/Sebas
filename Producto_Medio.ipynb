{
  "nbformat": 4,
  "nbformat_minor": 0,
  "metadata": {
    "colab": {
      "provenance": [],
      "authorship_tag": "ABX9TyPcOs+1tXe0YpYOb6RvH3ZD",
      "include_colab_link": true
    },
    "kernelspec": {
      "name": "python3",
      "display_name": "Python 3"
    },
    "language_info": {
      "name": "python"
    }
  },
  "cells": [
    {
      "cell_type": "markdown",
      "metadata": {
        "id": "view-in-github",
        "colab_type": "text"
      },
      "source": [
        "<a href=\"https://colab.research.google.com/github/SebasLion/Simulacion_1_Sebas/blob/main/Producto_Medio.ipynb\" target=\"_parent\"><img src=\"https://colab.research.google.com/assets/colab-badge.svg\" alt=\"Open In Colab\"/></a>"
      ]
    },
    {
      "cell_type": "markdown",
      "source": [
        "# Concepto\n",
        "\n",
        "1.   Este método consiste en proponer dos números Xj & Xj-1. Estos deben de ser a lo más de *p* dígitos.\n",
        "2.   Multiplicamos a Xj * Xj-1\n",
        "3.  Del producto obtenido, tomamos *p* dígitos centrales y lo asignamos commo Xj+1\n",
        "4. Repetimos el ciclo."
      ],
      "metadata": {
        "id": "1zn4w1NANVQL"
      }
    },
    {
      "cell_type": "markdown",
      "source": [
        "En este código se considero para el caso de *p*=3"
      ],
      "metadata": {
        "id": "MzLRt2ynSwSs"
      }
    },
    {
      "cell_type": "code",
      "execution_count": null,
      "metadata": {
        "colab": {
          "base_uri": "https://localhost:8080/"
        },
        "id": "hjomvstzbmGB",
        "outputId": "6be082ef-4831-4511-c419-f136b1dacb8c"
      },
      "outputs": [
        {
          "output_type": "stream",
          "name": "stdout",
          "text": [
            "1 .x0 es: 456& X1 es: 608\n",
            "2 .x0 es: 608& X1 es: 772\n",
            "3 .x0 es: 772& X1 es: 693\n",
            "4 .x0 es: 693& X1 es: 349\n",
            "5 .x0 es: 349& X1 es: 418\n",
            "6 .x0 es: 418& X1 es: 458\n",
            "7 .x0 es: 458& X1 es: 914\n",
            "8 .x0 es: 914& X1 es: 186\n",
            "9 .x0 es: 186& X1 es: 700\n"
          ]
        }
      ],
      "source": [
        "x0=123 #Esta es Xj-1\n",
        "x1=456 #Este es Xj\n",
        "num0=x1*x0 #El producto de Xj*Xj-1\n",
        "num=list(str(num0)) #Creamos una lista de caracteres\n",
        "#print(num) #Este fue una prueba para comprobar que \"num\" funcionaba\n",
        "\n",
        "for i in range(0,9): #Realizamos un ciclo\n",
        "        if len(num)==5: #Este \"if\" es para cuando el producto tenga una longitud impar, es decir, p-1\n",
        "            x0=x1\n",
        "            num1=(num[1]+num[2]+num[3])\n",
        "            print(i+1,\".x0 es:\",x0, end=\"& \")\n",
        "            x1=int(num1)\n",
        "            print(\"X1 es:\",x1)\n",
        "            num0=x1*x0\n",
        "            num=list(str(num0))\n",
        "        else:\n",
        "            x0=x1\n",
        "            num2=[0]+num\n",
        "           # print(num2)\n",
        "            num1=(num2[2]+num2[3]+num2[4])\n",
        "            print(i+1,\".x0 es:\",x0, end=\"& \")\n",
        "            x1=int(num1)\n",
        "            print(\"X1 es:\",x1)\n",
        "            num0=x1*x0\n",
        "            num=list(str(num0))"
      ]
    },
    {
      "cell_type": "code",
      "source": [],
      "metadata": {
        "id": "yYQWrL6pTVlY"
      },
      "execution_count": null,
      "outputs": []
    }
  ]
}