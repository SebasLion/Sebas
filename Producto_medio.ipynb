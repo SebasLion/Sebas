{
  "nbformat": 4,
  "nbformat_minor": 0,
  "metadata": {
    "colab": {
      "provenance": [],
      "authorship_tag": "ABX9TyPEn3NgHhHO8+7QeeKllHak",
      "include_colab_link": true
    },
    "kernelspec": {
      "name": "python3",
      "display_name": "Python 3"
    },
    "language_info": {
      "name": "python"
    }
  },
  "cells": [
    {
      "cell_type": "markdown",
      "metadata": {
        "id": "view-in-github",
        "colab_type": "text"
      },
      "source": [
        "<a href=\"https://colab.research.google.com/github/SebasLion/Sebas/blob/main/Producto_medio.ipynb\" target=\"_parent\"><img src=\"https://colab.research.google.com/assets/colab-badge.svg\" alt=\"Open In Colab\"/></a>"
      ]
    },
    {
      "cell_type": "code",
      "execution_count": 2,
      "metadata": {
        "id": "hjomvstzbmGB",
        "outputId": "32af6607-a3a9-4829-a7db-def63c8d7e4f",
        "colab": {
          "base_uri": "https://localhost:8080/"
        }
      },
      "outputs": [
        {
          "output_type": "stream",
          "name": "stdout",
          "text": [
            "['5', '6', '0', '8', '8']\n",
            "1 .x0 es: 456\n",
            "X1 es: 608\n",
            "2 .x0 es: 608\n",
            "X1 es: 772\n",
            "3 .x0 es: 772\n",
            "X1 es: 693\n",
            "4 .x0 es: 693\n",
            "X1 es: 349\n",
            "5 .x0 es: 349\n",
            "X1 es: 418\n",
            "6 .x0 es: 418\n",
            "X1 es: 458\n",
            "7 .x0 es: 458\n",
            "X1 es: 914\n",
            "8 .x0 es: 914\n",
            "X1 es: 186\n",
            "9 .x0 es: 186\n",
            "X1 es: 700\n"
          ]
        }
      ],
      "source": [
        "x0=123\n",
        "x1=456\n",
        "num0=x1*x0\n",
        "num=list(str(num0))\n",
        "print(num)\n",
        "\n",
        "for i in range(0,9):\n",
        "        if len(num)==5:\n",
        "            x0=x1\n",
        "            num1=(num[1]+num[2]+num[3])\n",
        "            print(i+1,\".x0 es:\",x0)\n",
        "            x1=int(num1)\n",
        "            print(\"X1 es:\",x1)\n",
        "            num0=x1*x0\n",
        "            num=list(str(num0))\n",
        "        else:\n",
        "            x0=x1\n",
        "            num2=[0]+num\n",
        "           # print(num2)\n",
        "            num1=(num2[2]+num2[3]+num2[4])\n",
        "            print(i+1,\".x0 es:\",x0)\n",
        "            x1=int(num1)\n",
        "            print(\"X1 es:\",x1)\n",
        "            num0=x1*x0\n",
        "            num=list(str(num0))"
      ]
    }
  ]
}