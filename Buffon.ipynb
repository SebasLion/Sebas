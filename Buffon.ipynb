{
  "nbformat": 4,
  "nbformat_minor": 0,
  "metadata": {
    "colab": {
      "provenance": [],
      "authorship_tag": "ABX9TyN8TtE2VmkeOexHnlMwa29d",
      "include_colab_link": true
    },
    "kernelspec": {
      "name": "python3",
      "display_name": "Python 3"
    },
    "language_info": {
      "name": "python"
    }
  },
  "cells": [
    {
      "cell_type": "markdown",
      "metadata": {
        "id": "view-in-github",
        "colab_type": "text"
      },
      "source": [
        "<a href=\"https://colab.research.google.com/github/SebasLion/Simulacion_1_Sebas/blob/main/Buffon.ipynb\" target=\"_parent\"><img src=\"https://colab.research.google.com/assets/colab-badge.svg\" alt=\"Open In Colab\"/></a>"
      ]
    },
    {
      "cell_type": "markdown",
      "source": [
        "# Experimento de la aguja de Buffon\n",
        "\n",
        "El experimento de la aguja de Buffon es un famoso problema geométrico y estadístico que se utiliza para estimar el valor de $ \\pi $ mediante métodos probabilísticos. Fue propuesto por el matemático francés Georges-Louis Leclerc, conde de Buffon, en el siglo XVIII.\n",
        "\n",
        "## Descripción del experimento\n",
        "\n",
        "Imaginemos un piso con líneas paralelas dibujadas a una distancia $d$ una de otra. Si lanzamos una aguja de longitud $l$ sobre este piso de manera aleatoria, queremos determinar la probabilidad de que la aguja cruce una de las líneas dibujadas.\n",
        "\n",
        "## Formulación matemática\n",
        "\n",
        "La probabilidad de que la aguja cruce una línea está dada por la fórmula:\n",
        "\n",
        "$$ P = \\frac{2 \\cdot l}{\\pi d} $$\n",
        "\n",
        "donde $l$ es la longitud de la aguja y  $d$ es la distancia entre las líneas en el piso.\n",
        "\n",
        "A partir de esta fórmula, podemos despejar $ \\pi $ para obtener una estimación:\n",
        "\n",
        "$$\n",
        "\\pi \\approx \\frac{2l}{P \\cdot d}\n",
        "$$\n",
        "\n",
        "## Implementación del experimento\n",
        "\n",
        "Para llevar a cabo el experimento de la aguja de Buffon, seguimos los siguientes pasos:\n",
        "\n",
        "\n",
        "  1. Dibujamos líneas paralelas en un piso a una distancia $d$ una de otra.\n",
        "  2. Lanzamos una aguja de longitud $ l $ varias veces sobre el piso de manera aleatoria.\n",
        "  3. Registramos cuántas veces la aguja cruza una de las líneas.\n",
        "  4. Calculamos la probabilidad $ P $ de que la aguja cruce una línea.\n",
        "  5. Estimamos $ \\pi $ utilizando la fórmula inversa.\n",
        "\n",
        "## Importancia y aplicaciones\n",
        "\n",
        "El experimento de la aguja de Buffon es relevante en la teoría de la probabilidad y proporciona una manera ingeniosa de estimar constantes matemáticas importantes como $ \\pi $. Además de su relevancia histórica y académica, tiene aplicaciones en la educación matemática y la enseñanza de conceptos estadísticos básicos.\n",
        "\n"
      ],
      "metadata": {
        "id": "MPtqGJkFrQAs"
      }
    },
    {
      "cell_type": "markdown",
      "source": [
        "# Analíticamente\n",
        "\n",
        "Para resolver el problema de manera analítica, podemos utilizar el concepto de probabilidad condicional y geometría:\n",
        "\n",
        "1. **Geometría del problema:**\n",
        "\n",
        "  La aguja puede caer de varias maneras sobre el piso, pero lo más crucial es cómo se relaciona su posición y orientación con las líneas paralelas.\n",
        "    \n",
        "2. **Cálculo de la probabilidad de cruce:**\n",
        "\n",
        "  Si la aguja se lanza aleatoriamente sobre el piso, la probabilidad de que cruce una línea depende de la posición del centro de la aguja $x$ (la distancia desde el centro de la aguja hasta la línea más cercana) y del ángulo $\\theta$ que forma la aguja con las líneas.\n",
        "    \n",
        "3. **Probabilidad condicional:**\n",
        "\n",
        "  La probabilidad de que la aguja cruce una línea dada una posición $x$ y un ángulo $\\theta$ está dada por:\n",
        "  $$ P(\\text{cruce} \\mid x, \\theta) = \\frac{2l \\cos(\\theta)}{d} $$\n",
        "  donde $\\theta \\in [0, \\pi/2]$ y $x \\in [0, d/2]$.\n",
        "\n",
        "4. **Integración sobre todas las posibles posiciones y ángulos:**\n",
        "\n",
        "  Para obtener la probabilidad total de que la aguja cruce una línea, integramos sobre todas las posibles posiciones y ángulos:\n",
        "  $$ P(\\text{cruce}) = \\int_{0}^{d/2} \\int_{0}^{\\pi/2} P(\\text{cruce} \\mid x, \\theta) \\cdot \\frac{2}{\\pi} \\, d\\theta \\, dx $$\n",
        "  donde $\\frac{2}{\\pi}$ es el factor de normalización que asegura que la distribución de $\\theta$ esté correctamente ponderada.\n",
        "    \n",
        "5. **Simplificación de la integral:**\n",
        "  Al resolver la integral, podemos llegar a la fórmula para la probabilidad de cruce:\n",
        "  $$ P(\\text{cruce}) = \\frac{2l}{\\pi d} $$\n",
        "    \n",
        "6. **Estimación de $\\pi$:**\n",
        "\n",
        "  A partir de la fórmula anterior, podemos despejar $\\pi$ para obtener una estimación:\n",
        "  $$ \\pi \\approx \\frac{2l}{P \\cdot d} $$\n",
        "  donde $P$ es la probabilidad de que la aguja cruce una línea.\n",
        "\n"
      ],
      "metadata": {
        "id": "96vSuKyd2PyS"
      }
    },
    {
      "cell_type": "code",
      "source": [
        "import numpy as np\n",
        "import matplotlib.pyplot as plt"
      ],
      "metadata": {
        "id": "yaAqdYmctxZ9"
      },
      "execution_count": 1,
      "outputs": []
    },
    {
      "cell_type": "code",
      "source": [
        "def simular_experimento(num_simulaciones, num_lanzamientos, l, d):\n",
        "    \"\"\"\n",
        "    Simula el experimento de la aguja de Buffon para estimar pi.\n",
        "    \"\"\"\n",
        "    pi_estimados = []\n",
        "\n",
        "    for _ in range(num_simulaciones):\n",
        "        cruces = 0\n",
        "\n",
        "        # Simular el lanzamiento de la aguja num_lanzamientos veces\n",
        "        for _ in range(num_lanzamientos):\n",
        "            # Generar posición aleatoria de la aguja (centro de la aguja y ángulo)\n",
        "            x_center = np.random.uniform(0, d/2)  # Posición x del centro de la aguja\n",
        "            theta = np.random.uniform(0, np.pi/2)  # Ángulo de la aguja respecto a las líneas\n",
        "\n",
        "            # Calcular extremo de la aguja en el eje x\n",
        "            x_end = x_center - (l/2) * np.cos(theta)\n",
        "\n",
        "            # Verificar si la aguja cruza una línea\n",
        "            if x_end < 0 or x_end > d/2:\n",
        "                cruces += 1\n",
        "\n",
        "        # Calcular la estimación de pi para esta simulación\n",
        "        if cruces > 0:\n",
        "            pi_estimado = (2 * l * num_lanzamientos) / (cruces * d)\n",
        "            pi_estimados.append(pi_estimado)\n",
        "\n",
        "    return pi_estimados\n"
      ],
      "metadata": {
        "id": "kugvIFWcxfcd"
      },
      "execution_count": 31,
      "outputs": []
    },
    {
      "cell_type": "code",
      "source": [
        "def graficar_histograma(pi_estimados):\n",
        "    \"\"\"\n",
        "    Genera un histograma de las estimaciones de pi obtenidas.\n",
        "    - pi_estimados: Lista de estimaciones de pi obtenidas en cada simulación.\n",
        "    \"\"\"\n",
        "    plt.hist(pi_estimados, bins=500, edgecolor='black')\n",
        "    plt.title('Histograma de estimaciones de pi')\n",
        "    plt.xlabel('Valor estimado de pi')\n",
        "    plt.ylabel('Frecuencia')\n",
        "    plt.grid(True)\n",
        "    plt.show()\n"
      ],
      "metadata": {
        "id": "5lN6ogyM0npZ"
      },
      "execution_count": 41,
      "outputs": []
    },
    {
      "cell_type": "code",
      "source": [
        "# Parámetros del experimento\n",
        "num_simulaciones = 1000  # Número de simulaciones del experimento\n",
        "num_lanzamientos = 1000  # Número de lanzamientos de la aguja en cada simulación\n",
        "l = 1.0  # Longitud de la aguja\n",
        "d = 2.0  # Distancia entre líneas paralelas en el piso"
      ],
      "metadata": {
        "id": "zCSEuvgF02Uf"
      },
      "execution_count": 42,
      "outputs": []
    },
    {
      "cell_type": "code",
      "source": [
        "# Simular el experimento\n",
        "pi_estimados = simular_experimento(num_simulaciones, num_lanzamientos, l, d)\n",
        "# Graficar histograma de las estimaciones de pi\n",
        "graficar_histograma(pi_estimados)"
      ],
      "metadata": {
        "colab": {
          "base_uri": "https://localhost:8080/",
          "height": 492
        },
        "id": "fLLrSo2I0uKL",
        "outputId": "9b23c64c-9bb4-4e53-cb17-666f1abfe00e"
      },
      "execution_count": 43,
      "outputs": [
        {
          "output_type": "display_data",
          "data": {
            "text/plain": [
              "<Figure size 640x480 with 1 Axes>"
            ],
            "image/png": "[encoded data removed]"
          },
          "metadata": {}
        }
      ]
    },
    {
      "cell_type": "code",
      "source": [],
      "metadata": {
        "id": "ElGeFFIw0yx-"
      },
      "execution_count": null,
      "outputs": []
    }
  ]
}