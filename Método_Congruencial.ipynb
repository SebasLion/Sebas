{
  "nbformat": 4,
  "nbformat_minor": 0,
  "metadata": {
    "colab": {
      "provenance": [],
      "authorship_tag": "ABX9TyMnhbfJKkTbleZIe1wzPOcw",
      "include_colab_link": true
    },
    "kernelspec": {
      "name": "python3",
      "display_name": "Python 3"
    },
    "language_info": {
      "name": "python"
    }
  },
  "cells": [
    {
      "cell_type": "markdown",
      "metadata": {
        "id": "view-in-github",
        "colab_type": "text"
      },
      "source": [
        "<a href=\"https://colab.research.google.com/github/SebasLion/Simulacion_1_Sebas/blob/main/M%C3%A9todo_Congruencial.ipynb\" target=\"_parent\"><img src=\"https://colab.research.google.com/assets/colab-badge.svg\" alt=\"Open In Colab\"/></a>"
      ]
    },
    {
      "cell_type": "markdown",
      "source": [
        "# Concepto\n",
        "El método congruencial es otro algoritmo que nos permite obtener números aleatorios. Este se basa en la siguiente ecuación:\n",
        "\n",
        "\n",
        "\n",
        ">![image.png](data:image/png;base64,iVBORw0KGgoAAAANSUhEUgAAAUgAAABJCAYAAABfP78iAAAQcElEQVR4Xu2cB5BURReFL6iACRTELAYUA5gAsxSYUEABFREQMYAEMRZiQiUopRYqYCaoKGAZwICigIpiBFGUjGDOqGAOmPj9+q/eevt2dmfe7r5d3rxzqyhqZ3r6dZ/uPvfce3umytr/zGRCQAgIASFQBIEqIkjtCiEgBIRAZgREkNoZQkAICIFiEBBBamsIASEgBESQ2gNCQAgIgWgISEFGw0uthYAQSBECIsgULbamKgSEQDQERJDR8FJrISAEUoSACDJFi62pCgEhEA0BEWQ0vNRaCAiBFCEggkzRYmuqQkAIRENABBkNL7UWAkIgRQiIIFO02JqqEBAC0RAQQUbDS62FgBBIEQIiyBQttqYqBIRANAREkNHwUmshIARShIAIMkWLrakKASEQDQERZDS81FoICIEUISCCTNFia6pCQAhEQ0AEGQ0vtRYCQiBFCIggU7TYmqoQEALREBBBRsNLrYWAEEgRAiLIFC22pioEhEA0BESQ0fBSayEgBFKEgAgyRYutqQoBIRANARFkNLzUWggIgRQhIIJM0WJrqkJACERDQAQZDa91ovWaNWvsjz/+sFq1aq0T46msQfz444+20UYb2QYbbFBZQ9Bz8xwBEWTCFviZZ56xkSNHWv/+/e3oo49O2OjLd7gzZ860YcOGWZ8+faxt27bl27l6EwL/ISCCTNA2ePTRR+3iiy+2e++911q2bJmgkcc31Oeff97OPvtsGzp0qJ1++unxPUg9pxIBEWRClv2jjz6yxo0b27hx46xdu3YJGXXFDBNVfdppp9lbb71l9evXr5iHhp7y5ptv2ieffGJ169a1Fi1aFBnD1KlT7bXXXnPKf/PNN488xttvv91IrVx00UW23nrrRf68PlA6BESQpcOtwj+FSnrvvffcIZMVReCoo46ybbfd1saPH18p8CxZssQOOOAAO/LII+2pp54qNIarr77aZs+ebYMGDbJDDjnEqlatGnmMH3/8sUsnQMLMsTiSJTf977//2l9//eWes+GGG9r6668f+Xn6wP8REEEmYCesWrXKdtllF5d7PPPMMxMw4pKHOGbMGNt3333twAMPLLe5TJw40Xr16mUffvihbbnlluXWb5SO6tWrZxdccIFdcsklBR9D8RP+z5071zbbbLMo3WVsi1L++++/7eGHHy70/rx58+yGG26wOXPmuPc32WQT+/PPP+3444+32267rczPTWsHIsgErPzjjz9up5xyijv8HMKk26677urIjHCzvAxltfvuu7sURKdOncqr25z74fkNGza0Z5991po1a+Y+99NPP9nee+/tCLJr164591VSw6+//toaNWpk5KOPOOII1/Szzz6zgw46yL766iv3NyH4q6++ag899JC9/fbb9sorr5TLs9PYSd4TJJvjpptucnk7wlRs8ODBxka74447ShXuVPRGufzyy91m/+CDDzLmnwipCLs4pNWrV3f/yFf169evxPBqwYIFttNOO1nNmjWLnRI4XXXVVbbxxhu7EK9atWr29NNPGyrwlltuKVXOj1D0jDPOsPPOOy9nKEktkOf77bffnKO47LLLrEGDBgWfB4Ptt9/eTj31VBs+fLh7/bnnnrO7777bOnbs6F6/55577IknnrD27dtb9+7d3ft33nmn7bnnnjZw4ECHm7fly5fblClTHN4//PCDKwBB7EFDxS1btsxdNYKIZs2aZUuXLi1QihMmTHBFNdaFNt4It4kGmjdvbr1797ZHHnnEHnjgAZe7RH2+8cYbNmLECNt6660duaIGg3biiSe6cU2aNMm9zByp5HtjPb/99lu76667DOf60ksv5YyzGhZGIK8JkrwNyW1CjrFjxxqhKhuTUATPzoaO2xYtWmTnnntu1sdceeWVdtxxx2Vsd9JJJ9nKlSsz5h8hBg7vP//84wgLgzj2228/pyLCRm7q/fffd6Rw7LHHOjLhPiV3CcOhKbhxQHkPkpw2bZptscUW1qZNG4cp/aPaohqh9VlnnVXoUJfUByHigw8+6Kr3EE3Tpk2dUuP/oB1++OEuN0cOEMdIYeTTTz81ws9u3bo5ooHQRo0a5ZwkOTqIn8IHnyEcxSBjUhk33nijW5Obb77ZhbQQmyervn37OuXG/iLPh7I/+OCD7cUXXywYEg6ZPch1JG/vvPOOc3aoSxzN+eef78gOQuN5AwYMcE6IfOo555zjxtqzZ89C88Ths9YQL2vDnmYO3jbddFM3NpwYGATHFHWt0t4+rwnyl19+cZuPw7zHHns45fDdd9+5zcVGr4iL1hyEd999N+s+g2i22mqrjO04eOSvIKiwjR492q655hqnLjnsGIcVQrjuuuuKtOdyNcoNEv3iiy9s5513dgdoyJAhRXKCkC7qqU6dOu5aEQcPUoEcqKhDDNkuaa9du9Z+/fVX439vKKcuXbq4MNsb/dSoUaPIeBcuXOgKG4wR5YlBDNttt10RdXzyySfb6tWrXdvvv//ekSUkAcEQeqNaqXTTT48ePdx7v//+u8MdB4rSRHkTKp9wwgkFSnT+/Pm2//77O+JkLJMnT3bRCI6GqrXHHEeG8vN26KGH2m677Wb3339/wWvsB0gegufuJnsRlQmR77jjjtaqVStHnOC8zTbbOKUcJD86QhVC4IsXL3aqmQJRkyZN3JcHMBFk1uOWc4O8JsggCocddph9+eWXTgWEieixxx5zXtsriFzRQ41VqVIl9iohZAaRTZ8+vdDQUI8oQQ6VP5iQHq+hUlq3bp1xKjgODh15LPpFne21114lTht1g4rkSs0xxxxTqC0q+eWXX3bhYrhCC8ES3qKQvFGNr127dgG58Dp5w0svvbTIGCAiiIDiQzYjT0uUEFRskBZXpFBuGGEnz8GhoJghPS7c48RwUigu9gHtUeEYkQbhL20hPRwWRTNww3gmDhg1yVy97bDDDo4ESeWEDSfz5JNPunEQ2kN6HTp0cHOlL5QuSpvx+Jym74PUACkjQnGKXRh7A6VLMQjHBuFC+lKQ2XZNye+nhiAhAIgD7x82QlRC7uABhXxIehNSBnNTfBaVQj6LHBWhF+FQcYZ6WrFiRdZVQvVBGpmMg8J7YQWJkiIvRgUX9YOR90KZQQqZqrkoGBQk6gTSgiBRVahQVEhxdsUVVzgCQIGH8UAhQbaEqTiMoIEjn+HQeoPQGS9htjfUbzgXymeZH8qQ/Gc2g2AgKx9SUsUlxwoZEbpinTt3duvnnQ3pFsYPyRNtUDgilP/888+dQsZwPuwNHCyvkRvkc/SLQUIQIXnL4D1MHBuFFMLksEG+pATAFOO5M2bMMNQqRk6SZ6JSwzlInBT4kZMNOzaInbGQE6UPEWS2XVPy+6kgSA4/Xpewi5AtGBZCDihBwq7gfbGff/7ZhZXkd4LXUVBEFETYuCgINnRJBEkhJJxDyrQk3JUjt5fJfGognFPkb+7dkYRH2RAuEgoSjqOUMxkhJGNivign5se8OYSErZkMp4JDQLHgFIKKBgVEfhT1RSiei4EnyhDFWZKxBjgO8oVcn8EgPRRwJmdC6M48IAWMggmkz98QFSQNoUAu1157rWsDBhAejgWjeAN5QpDeUI9gxLd2CGfBGExQmpA40QmkizIOGo6AtAHqMGg4DMJpFB6EjaFKqU7zGsbrkD2kGTbaEAGQZwzfh8RpggPkKYLMZTeW3CZvCRLSI+TgAEOIF154oduAhF9sPDY5mxRlwYZDcQUrjcDG1QlyVyhPb+QzUUmoQg4AxQDyQHEa6oIDCSkHQ1gKAChAKrEcenJqqBXyZOSumDshZnH2+uuvu7kVd+kYZerDW/qlekpuDsKGjDmIhNYQO2mKcOhd3HNzrWJDPhAaSgxiZo0oZuFw/BUX/wxynIS0zPfWW291LzN+cnUoP3KF4EVfVH9RWawloTKFEnKqOAjUGblbCA+DXCErnBBtUN2sN+PwX/ukisw6sN9wPv6aEW1YtzBx4qwhV8J68Mfp4ghQpb6gxzgpEPFs76z9XHEWL7zwglubsLFHuDRPqC2CLPupzFuCZIOjDKh04oVRFuTkyO0QgnIoIEQOPuEh6gBj87LxUFoQDwcOIiVcJb/kv+aFh4aUUHFxEyTjo6jBAQ+rPJQEShayYl4oH66KQFq8hyMorVHlJvdHaI/CgQCuv/56R5JciyF8RbFAjOCX6x3NKPcg6ZeCCgRH7pgwOtNleeZNvzg7f+cQhUqoyVrh1CBZ1ow9wNghYHBFGRPG4yxRfKhI1hyHSsGE4k4wn8s3YgiNUdIoYfrhf4gJzFHzGNEJYTRhb9DJoojZd6wnuW8cFUoWZ+Mr84ydHCVYE2oHrxjRF3uRcYggS7u7c/tc3hIkoRiJag6CD51RPWzK4GYlD4aC8ldkCCXZqChQyJJwkDwk/RAG+74qkiC/+eYbl9viUHGgw8aBJ+SExFFSKBYOuM+h5bYViraC/HAswdCZZ0GEXm2jxrh2UlxIn+nZXC1CRUIeuRjOjrGwBsWpXe4SQpwoKJ/yIAQlesBRYig1/oGNz5Vyr5I9Ec7lcTUI4oMkM1XXyTeCjX8Wf5PXpYIcNKIMnn/fffcVvExum3DfO1YUImkKVKh3wOxfIgCq4MHUD6SJI4R0eV7YiGwI+Ukl8UycAgQsKx0CeUuQucIBARLCUgENG0qATZbprh8qE++OQinNjw/kOj7fDmLk0nawQhu1jzjaE2ZCOkECiOM52fqEiCAs1Pa6ZBA7uWz2GEq4LAbpkd4gf5rJUdI3ZI+jgEgpIJIa8NX2sjw7rZ9NNUESlhEmkZQPfiuDzUC1l7CSkM2HTH6TQI7ktwg3uTZCiBn3r8igCgm/SPivS78DSS6QKyfhu3oVeaC4hkNOkVA523WlihyXfxbqkjCZsXFVKpzrzmVMFAapthN6k2YozoggUKeoTv5HBWe7q5rL89PaJtUEiZcll0auKPyLJyTwCU24/hNWiBxEyJWNRzvCIH8fLc6NxPUT8k4oAwoxlW1cYWLehLcUMCrDfKqDolTw63aVMZaSnglxkYbYZ599Ci70RxkjRRdSG8V9mSBKX2qbOwKpJEhIjZwPlW1C7EwXlHOHsGJbcgGcb8+gRLjiU1lGWI26pkhFBbs0P+FV1rETPvJVSIoo5fVjEGUdkz6fXwikkiApenDvjSS3v4eWpGXl64Ik8f3X3Cp67KghQj6uvJBXq4ivbGaaI/cJqQKX9GMbFY2NnpdfCKSSIPNrCTUbISAE4kJABBkXsupXCAiBxCMggkz8EmoCQkAIxIWACDIuZNWvEBACiUdABJn4JdQEhIAQiAsBEWRcyKpfISAEEo+ACDLxS6gJCAEhEBcCIsi4kFW/QkAIJB4BEWTil1ATEAJCIC4ERJBxIat+hYAQSDwCIsjEL6EmIASEQFwIiCDjQlb9CgEhkHgERJCJX0JNQAgIgbgQEEHGhaz6FQJCIPEIiCATv4SagBAQAnEhIIKMC1n1KwSEQOIREEEmfgk1ASEgBOJCQAQZF7LqVwgIgcQjIIJM/BJqAkJACMSFgAgyLmTVrxAQAolHQASZ+CXUBISAEIgLARFkXMiqXyEgBBKPgAgy8UuoCQgBIRAXAiLIuJBVv0JACCQeARFk4pdQExACQiAuBP4H0XNwnncTdy0AAAAASUVORK5CYII=)\n",
        "\n",
        "donde *a*, *c* y *m* son una constantes y x_j es nuestro número semilla\n"
      ],
      "metadata": {
        "id": "Eq8pFhYYisY9"
      }
    },
    {
      "cell_type": "markdown",
      "source": [
        "Cabe destacar que para el código tenga una vida larga de duración, *m* debe ser primo relativo a nuestro número semilla.\n",
        "En este caso, solo se ejemplifica el método con datos \"aleatorios\"\n"
      ],
      "metadata": {
        "id": "F3If8__gnJsy"
      }
    },
    {
      "cell_type": "code",
      "source": [
        "x0=6\n",
        "m=16\n",
        "c=5\n",
        "a=5\n",
        "from tabulate import tabulate\n",
        "headers=[\"i\", \"x0\",  \"xn\",  \"xn%m\",  \"x0/m\"]\n",
        "lx0=[x0]\n",
        "lxn=[]\n",
        "lmo=[]\n",
        "li=[]\n",
        "lxm=[x0/m]\n",
        "for i in range(0,4):\n",
        "  xn=a*x0+c\n",
        "  lxn.append(xn)\n",
        "  xnmod = xn % m\n",
        "  lmo.append(xnmod)\n",
        "  x0=xnmod\n",
        "  lx0.append(x0)\n",
        "  li.append(i+1)\n",
        "  lxm.append(x0/m)\n",
        "  table=list(zip(li, lx0, lxn, lmo, lxm))\n",
        "print(tabulate(table, headers, tablefmt=\"simple_grid\"))"
      ],
      "metadata": {
        "colab": {
          "base_uri": "https://localhost:8080/"
        },
        "id": "o-K0QMgTlhLq",
        "outputId": "f6a090a1-3c06-42d4-baf3-3b1361625366"
      },
      "execution_count": 24,
      "outputs": [
        {
          "output_type": "stream",
          "name": "stdout",
          "text": [
            "┌─────┬──────┬──────┬────────┬────────┐\n",
            "│   i │   x0 │   xn │   xn%m │   x0/m │\n",
            "├─────┼──────┼──────┼────────┼────────┤\n",
            "│   1 │    6 │   35 │      3 │ 0.375  │\n",
            "├─────┼──────┼──────┼────────┼────────┤\n",
            "│   2 │    3 │   20 │      4 │ 0.1875 │\n",
            "├─────┼──────┼──────┼────────┼────────┤\n",
            "│   3 │    4 │   25 │      9 │ 0.25   │\n",
            "├─────┼──────┼──────┼────────┼────────┤\n",
            "│   4 │    9 │   50 │      2 │ 0.5625 │\n",
            "└─────┴──────┴──────┴────────┴────────┘\n"
          ]
        }
      ]
    },
    {
      "cell_type": "code",
      "source": [
        "a=35%16\n",
        "print(a)"
      ],
      "metadata": {
        "colab": {
          "base_uri": "https://localhost:8080/"
        },
        "id": "-B2HYMaJneNl",
        "outputId": "fd7dd240-cc5b-437d-ab78-c7058ec1cb2a"
      },
      "execution_count": 11,
      "outputs": [
        {
          "output_type": "stream",
          "name": "stdout",
          "text": [
            "3\n"
          ]
        }
      ]
    },
    {
      "cell_type": "code",
      "source": [
        "x0=6\n",
        "m=16\n",
        "c=5\n",
        "a=5\n",
        "from tabulate import tabulate\n",
        "headers=[\"i\", \"x0\",  \"xn\",  \"xnmod\",  \"x0/m\"]\n",
        "#print(tabulate(headers))\n",
        "for i in range(1,4):\n",
        "  xn=a*x0+c\n",
        "  xnmod=xn%m\n",
        "  table=[[i, x0, xn, xnmod, x0/m]]\n",
        "  x0=xnmod\n",
        "  print(tabulate(table, headers, tablefmt=\"simple_grid\"))"
      ],
      "metadata": {
        "colab": {
          "base_uri": "https://localhost:8080/"
        },
        "id": "O3-LyPG_sq_p",
        "outputId": "6c50e4e8-faff-44e9-ef6e-fdade44192d3"
      },
      "execution_count": 19,
      "outputs": [
        {
          "output_type": "stream",
          "name": "stdout",
          "text": [
            "┌─────┬──────┬──────┬─────────┬────────┐\n",
            "│   i │   x0 │   xn │   xnmod │   x0/m │\n",
            "├─────┼──────┼──────┼─────────┼────────┤\n",
            "│   1 │    6 │   35 │       3 │  0.375 │\n",
            "└─────┴──────┴──────┴─────────┴────────┘\n",
            "┌─────┬──────┬──────┬─────────┬────────┐\n",
            "│   i │   x0 │   xn │   xnmod │   x0/m │\n",
            "├─────┼──────┼──────┼─────────┼────────┤\n",
            "│   2 │    3 │   20 │       4 │ 0.1875 │\n",
            "└─────┴──────┴──────┴─────────┴────────┘\n",
            "┌─────┬──────┬──────┬─────────┬────────┐\n",
            "│   i │   x0 │   xn │   xnmod │   x0/m │\n",
            "├─────┼──────┼──────┼─────────┼────────┤\n",
            "│   3 │    4 │   25 │       9 │   0.25 │\n",
            "└─────┴──────┴──────┴─────────┴────────┘\n"
          ]
        }
      ]
    },
    {
      "cell_type": "code",
      "source": [],
      "metadata": {
        "id": "mYXQmJE4tpBi"
      },
      "execution_count": null,
      "outputs": []
    }
  ]
}