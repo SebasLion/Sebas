{
  "nbformat": 4,
  "nbformat_minor": 0,
  "metadata": {
    "colab": {
      "provenance": [],
      "authorship_tag": "ABX9TyMx6JLJlXHMU1ZzhjzQR3JR",
      "include_colab_link": true
    },
    "kernelspec": {
      "name": "python3",
      "display_name": "Python 3"
    },
    "language_info": {
      "name": "python"
    }
  },
  "cells": [
    {
      "cell_type": "markdown",
      "metadata": {
        "id": "view-in-github",
        "colab_type": "text"
      },
      "source": [
        "<a href=\"https://colab.research.google.com/github/SebasLion/Simulacion_1_Sebas/blob/main/Chi_Cuadrada.ipynb\" target=\"_parent\"><img src=\"https://colab.research.google.com/assets/colab-badge.svg\" alt=\"Open In Colab\"/></a>"
      ]
    },
    {
      "cell_type": "markdown",
      "source": [
        "#Chi cuadrada\n",
        "Esto es una prueba de forma que sirve para verificar que no hay diferencia detectable entre la distribución muestral y la teórica.\n",
        "Se planetea una hipótesis nula H0.\n",
        "\n",
        "Utiliza el estadístico:"
      ],
      "metadata": {
        "id": "eNquGyDM64bD"
      }
    },
    {
      "cell_type": "markdown",
      "source": [
        "![image.png](data:image/png;base64,iVBORw0KGgoAAAANSUhEUgAAAOAAAABXCAYAAAAd4kksAAAMYUlEQVR4Xu2dB4xV1RaGF0WlKF2FqCgizVCUUDWICIKikRJAegfpHcUASgALaKJAgooSNNK7ShOlhCKgoGCjd9BQhaCiUt7j2+/deXd4M3PvDOeyZ+b+K5lMMnPuXuf8e/1nrb3W2vtm+dcVMYkQEAJeEMgiAnrBXUqFgENABJQhCAGPCIiAHsGXaiEgAsoGhIBHBERAj+BLtRAQAWUDQsAjAiKgR/ClWgiIgLIBIeARARHQI/hSLQREQNmAEPCIgAjoEXypFgIioGxACHhEQAT0CL5UCwERUDYgBDwiIAJ6BF+qhYAIKBsQAh4REAE9gi/VQkAElA0IAY8IiIAewZdqISACygaEgEcERECP4Eu1EBABZQNCwCMCIqBH8KVaCIiAMbSBkydPWsGCBe3333+3v//+2woVKhRDbRo6IyIgAsZo1o4cOWLvv/++/fPPP/b444/bRx99ZC+//LLde++9MdKoYTMiAiJgjGbt0qVLNnv2bJs1a5YtWLDAmjVr5ghYtmzZGGnUsBkRAREwhrP2wgsvWIUKFeyRRx6x7t2729y5c+3GG2+0LFmyxFCrn6EJsw8dOmTFixe3m266yc9NZECtImCMJo2v3GjRooWNHj3a/vzzT3vxxRetV69eVrduXcuWLVtUWn/77TfLnz9/VNder4vOnDlj+fLlS6Ru3bp1Nm3aNLv//vvtq6++srfeessKFy58vW4pQ+sRAWM0fZcvX7aDBw9a0aJFncfbu3evFSlSxG6++eaIGvEmY8eOdeEqoWu4HDhwwG644Qa74447Io6T2gtOnTplhM7o5wWCJ4Ns4fe8bNkyW7t2rfXt29duu+02p2LHjh3ud+nSpd1699VXX7XKlSunVn1cXi8CprNph7idO3e2mjVrWtu2bRPC1cOHD9u4cePs7rvvthMnTljOnDnt+eefj9qbRvOYU6ZMsddee80GDhxoBQoUsI8//tiRipdBuMyZM8fmzZtnH3zwQSJyfvLJJ8YLomfPnpY9e/ZoVMb9NSJgOjOBmTNnOuPGyENy+vRpe/rpp906sk2bNnbu3DnnYd577z1H1KDk888/t8GDB9v333/vhuQ+CJ/RebU899xzVq5cORdWI1u3brXdu3db06ZNnffMjOvcoHAOH0cEDADVpUuX2tChQy1Hjhzu56+//kpx1IsXL7pQD2MdMmRIomsbN25sDRo0sHbt2iX8nbG/+eYbW758ecLfHnvsMecpW7ZsGcAT/GeIUaNG2S+//GLvvPOO+034mStXriTH55nfeOMNW7lype3atct56yeeeML2799vkPOhhx4K7L4y80AiYACzi7E++uijzgNQaoBEFN6TE0JIEjS1a9e2+fPnJ1xGzbBevXoucfPwww+7v1+4cMFlUkeMGJGwHsQrPfDAAzZ+/Hhn9EkJyRJCQu4ja9asCZcQ4ubOnduNxVoyXBo2bOheILwAuC/qmOEJl3DPxroPz7h69WpHOjw3Xo+XC56ata8kMgIiYGSMorqCsK1GjRoua/ntt9+6NVRKgvcgewhJQgJpyJJOmjTJEQzZuXOn1alTx9asWWPFihVzf9uwYYPzntu2bXOdNhMnTnTXlCxZMmGsX3/91Xm08+fPJwoHIRGkYq0H2UICqSE9yZU8efK4RAvZTISmAghJuBkiMy+bZ5991hYuXCiyRWUhSV8kAl4DeFd/FC+AZ2NdRrhIzS85+frrr40wDo8ZEjwgBBw5cqSrHSKbNm1yYeaPP/7oEi9I69atXfKF7ho8zooVK9yaMBLpU3pUyIxXRA+eEeIy9i233GJHjx617du3O5KHJOQBec70VioJcEpjPlTcEpCsIm/zoNP5/fr1c9lKivCvv/56qiewUaNGLqxkHYUcP37cERqvyLqKzhrWaBT1b7/9dpsxY4ZLmuDRrkXIdPJCWLVqlVufjhkzxnnUJk2aWO/eve2pp55KFO5++umn7jkhvyTtCMQlAYcPH+4ao/ft2+eMjLR5UMKaLRQyErZBqNQI2c+pU6cmCk2/+OILI0PJy+Ls2bOOnNQUEdrdIAEZ0bTKH3/84V4Y/IbsZF0ZE6KzliMhhHeEhCHp0KGDPfjgg9anT5+0qtXnriAQlwT88ssvHUlYf+FRpk+fHqgxUAurWLGiG3Pjxo2J1maRFLFGI7tZrVo19zs8nQ9BSKCEC1lU1ovNmzePNHSy/8fjkZwhImAtiBB6InTjdOvWzRE8lJAh1MYD4pWjaSxI843FwQfjkoDMK4b2yiuvuBCLN3nQsmTJEucxqlat6jKF4QmPSLq4tzfffNO1dnF/KUmrVq1cPa5Lly4uIRO0kGzhRQBWJGl4eZGgwfNpe9W1ox2XBOSNzxqqUqVKrnk4VoXjl156yWUiySy+/fbbqZ4tws28efOm+LmffvrJ2HdYvXr1FJM+qVb+3w+QiCEDS/hbqlQp1wQQ8o5pHVOf+x8CmZaAvLnJEuJFyCKSZIB4NEWTZaRUUKVKFWdQvN3Da2XAQ/aR3sikBOKG+iBTMiaI/cwzz9iiRYvcvVCslgiBcAQyLQFJndOhQTaPwvjmzZtdgoGQjbULxXOK1LzV27dv/39WMWjQINdelZRQKGeNFo3gnbiW7hjqaRIhEBcEDD0kxXGSFBMmTPA285QPatWq5TxtckINkBcFXTKZQUhu3XPPPZnhUWL6DJnWA4IatT68HjUyujbCheweHfvJrWfI+u3ZsydJ8Dt27GhlypSJamLwpKzTqLFFClfx2JQxMoOUKFFCG3OjmMhMSUDCS1qkIBmJDFq8yCqSiaQ7hfXYsWPH7Oeff3bkDNXUwvGiD5I9fEkJISvbdCIJR1Gwu4CWM21QjYRWfP4/UxLwu+++c2nyUCGZQjuNzxSTKWhT/8PDscOARudYZPUgLw3akydPdu1lPoVIgNYy1qEkhvD8JJFuvfVWn7cl3VcQyJQETGpmyYDSP0kmkqxocrsIgrAKwkjIV79+fbdNybe8++67bv2Jt6eYzi4K1sVXb7T1fZ/xqD9uCBiaXIyQkBQDvPPOO90OhqCF3km6YT777LOgh07TeITChODr1693n1+8eLH7Hd5alqaB9aFrRiDuCIh3whApcNNBEvTRCfRmsneP7pdItUI6Xjh3JdpDmtI626xDCT0hIdubONYiNZ05adWrz0VGIO4IGBmStF9BFpPQliRPJM9KEohsKo3Xsd7OwxqUlwGtZLTI0csZ3lMaq06gtCMZP58UAQOaa4r6kI/9gF27do04Kv2UrEcpdcTSA5IJ5mVAQwLdPlu2bLFhw4a5+2Or04cffugSVvKIEacsJheIgAHBOmDAAOPIPhIeeBR+khN2HtAjShscHTqxFMJtti+x0RYhE8qxgzRS05nDYbr0keoQpVjOQvJji4AB4M6m2LQcjkSTAGvFWAkvAbYrUZZh+xBemr2QHOjE+S/9+/d3yajwA6BidS8aN2kERMAALIM1HydCE+KR1MHDUfZITkLehh7RWBo/HpaEEDsaqHfSXM7RE+xkZ+tSjx49HBkjbXkKACINkQwCImDAppGeEhqhTbY8IiSE+KH1Jpt7O3Xq5I4WvOuuuwJGQcNFi4AIGC1SUV6HQVOET+lodo58oEZIVvK+++6LcuRgL+PUNDbastud0wFCBz4Fq0WjRUJABIyEUCr+T42NrCOhJSHo1WEo3ocECKUANuiSiPHZpsZhThwpwXGHSsKkYqIDvFQEDBBMzpZhGw69pmz4DXWehFTgGdkgzFqR71/gi0yefPLJAO9AQ2U0BETAAGeMLzNh6xHHEZIAYSdGuIR/0xDHVNAryknYkvhFQAQMcO452o9tShzZR+qfE9HChYJ46BtySYCQfZQHDHACMuBQImCAkwahOIipfPnyKY5K+xnblDgOg1JApOsDvEUNlc4QEAEDmBBKD3S0kFShGTtSWxf1OHoxKYxzDHxy30AUwK1piHSOgAgYwAT98MMPrsE5VmeMBnCLGiKdIiACBjAx6an4HsDjaIjriIAIeB3BliohcDUCIqBsQgh4REAE9Ai+VAsBEVA2IAQ8IiACegRfqoWACCgbEAIeERABPYIv1UJABJQNCAGPCIiAHsGXaiEgAsoGhIBHBERAj+BLtRAQAWUDQsAjAiKgR/ClWgiIgLIBIeARARHQI/hSLQREQNmAEPCIgAjoEXypFgIioGxACHhEQAT0CL5UCwERUDYgBDwiIAJ6BF+qhYAIKBsQAh4R+DfXnfxHj0zD0wAAAABJRU5ErkJggg==)"
      ],
      "metadata": {
        "id": "Ovm9mWy386rY"
      }
    },
    {
      "cell_type": "markdown",
      "source": [
        "Donde\n",
        "* Oi= Frecuencia observada en la clase i\n",
        "* Ei= Frecuencia esperada en la clase i\n",
        "* n= Número de clases"
      ],
      "metadata": {
        "id": "QKwzTjlB88fC"
      }
    },
    {
      "cell_type": "code",
      "source": [
        "l=[0.8797, 0.3884, 0.6289, 0.8750, 0.5999, 0.8589, 0.9996, 0.2415, 0.3808, 0.9606, 0.9848, 0.3469, 0.7977,\n",
        "         0.5844, 0.8147, 0.6431, 0.7387, 0.5613, 0.0318, 0.7401, 0.4557, 0.1592, 0.8536, 0.8846, 0.3410, 0.1492,\n",
        "         0.8681, 0.5291, 0.3188, 0.5992, 0.9170, 0.2204, 0.5991, 0.5461, 0.5739, 0.3254, 0.0856,\n",
        "         0.2258, 0.4603, 0.5027, 0.8376, 0.6235, 0.3681, 0.2088, 0.1525, 0.2006, 0.4720, 0.4272,0.6360,0.0954]\n",
        "#H0= Los números de las muestras provienen de una distribución\n",
        "#uniforme en el intervalo (a,b) a un nivel de significancia a=0.05\n",
        "\n",
        "j=len(l) #Calculamos la cantidad de elementos de la lista \"l\"\n",
        "l.sort() #Ordenamos nuestra lista de forma ascendente\n",
        "\"\"\"Definimos nuestros contadores para los elementos de cada clase.\n",
        "Recuerde que para este método es necesario tener al menos 5 clases\"\"\"\n",
        "c1=0\n",
        "c2=0\n",
        "c3=0\n",
        "c4=0\n",
        "c5=0\n",
        "n=5 #Cantidad de clases\n",
        "#Contamos los elementos de cada clase\n",
        "for i in range(len(l)):\n",
        "  if l[i] <= 0.1999:\n",
        "    c1=c1+1\n",
        "  elif l[i]<=0.3999:\n",
        "    c2=c2+1\n",
        "  elif l[i]<=0.5999:\n",
        "    c3=c3+1\n",
        "  elif l[i]<=0.7999:\n",
        "    c4=c4+1\n",
        "  elif l[i]<=0.9999:\n",
        "    c5=c5+1\n",
        "\n",
        "l1=[c1,c2,c3,c4,c5]\n",
        "k=len(l1)\n",
        "Ei=j/n #Cantidad total de datos entre la cantidad de clases\n",
        "\n",
        "l2=[]\n",
        "for r in range(0,k):\n",
        "  resta=((l1[r]-Ei)**2)/Ei\n",
        "  l2.append(resta)\n",
        "cri=9.488 #Este es un valor obtenido de una tabla\n",
        "\n",
        "if sum(l2)<cri:\n",
        "  print(\"Se aprueba la hipótesis H0\")\n",
        "  print(sum(l2),'<',cri)\n",
        "else:\n",
        "  print(\"No se aprueba la hipótesis H0\")"
      ],
      "metadata": {
        "colab": {
          "base_uri": "https://localhost:8080/"
        },
        "id": "WDZ-mqLHd19x",
        "outputId": "8189e66f-7d0f-4a21-f66d-0af3bbe2f153"
      },
      "execution_count": 1,
      "outputs": [
        {
          "output_type": "stream",
          "name": "stdout",
          "text": [
            "Se aprueba la hipótesis H0\n",
            "4.2 < 9.488\n"
          ]
        }
      ]
    },
    {
      "cell_type": "code",
      "source": [],
      "metadata": {
        "id": "JbbRnkws9qYH"
      },
      "execution_count": null,
      "outputs": []
    }
  ]
}