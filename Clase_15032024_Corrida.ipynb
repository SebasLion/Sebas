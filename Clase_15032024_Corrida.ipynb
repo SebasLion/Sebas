{
  "nbformat": 4,
  "nbformat_minor": 0,
  "metadata": {
    "colab": {
      "provenance": [],
      "authorship_tag": "ABX9TyNloAXTiKkV9JQE5ifHkFWJ",
      "include_colab_link": true
    },
    "kernelspec": {
      "name": "python3",
      "display_name": "Python 3"
    },
    "language_info": {
      "name": "python"
    }
  },
  "cells": [
    {
      "cell_type": "markdown",
      "metadata": {
        "id": "view-in-github",
        "colab_type": "text"
      },
      "source": [
        "<a href=\"https://colab.research.google.com/github/SebasLion/Simulacion_1_Sebas/blob/main/Clase_15032024_Corrida.ipynb\" target=\"_parent\"><img src=\"https://colab.research.google.com/assets/colab-badge.svg\" alt=\"Open In Colab\"/></a>"
      ]
    },
    {
      "cell_type": "markdown",
      "source": [
        "#Prueba de Corridas\n",
        "Esta es una prueba de independencia."
      ],
      "metadata": {
        "id": "BFslkPXYiiNE"
      }
    },
    {
      "cell_type": "code",
      "execution_count": 31,
      "metadata": {
        "colab": {
          "base_uri": "https://localhost:8080/"
        },
        "id": "X6TLrMZ7BQPE",
        "outputId": "7b9c53bc-253a-41a8-d37c-a1821c392ba0"
      },
      "outputs": [
        {
          "output_type": "stream",
          "name": "stdout",
          "text": [
            "0.048, 0.591, 0.478, 0.166, 0.932, 0.926, 0.007, 0.551, 0.362, 0.533, 0.368, 0.437, 0.178, 0.411, 0.545, 0.787, 0.594, 0.086, 0.951, 0.772, 0.298, 0.199, 0.157, 0.401, \n",
            "0.591 >= 0.048 >> 1\n",
            "0.478 <= 0.591 >> 0\n",
            "0.166 <= 0.478 >> 0\n",
            "0.932 >= 0.166 >> 1\n",
            "0.926 <= 0.932 >> 0\n",
            "0.007 <= 0.926 >> 0\n",
            "0.551 >= 0.007 >> 1\n",
            "0.362 <= 0.551 >> 0\n",
            "0.533 >= 0.362 >> 1\n",
            "0.368 <= 0.533 >> 0\n",
            "0.437 >= 0.368 >> 1\n",
            "0.178 <= 0.437 >> 0\n",
            "0.411 >= 0.178 >> 1\n",
            "0.545 >= 0.411 >> 1\n",
            "0.787 >= 0.545 >> 1\n",
            "0.594 <= 0.787 >> 0\n",
            "0.086 <= 0.594 >> 0\n",
            "0.951 >= 0.086 >> 1\n",
            "0.772 <= 0.951 >> 0\n",
            "0.298 <= 0.772 >> 0\n",
            "0.199 <= 0.298 >> 0\n",
            "0.157 <= 0.199 >> 0\n",
            "0.401 >= 0.157 >> 1\n",
            "0.631 >= 0.401 >> 1\n",
            "Contador de 1 es: 11\n",
            "Contador de 0 es: 13\n"
          ]
        }
      ],
      "source": [
        "l=[0.048, 0.591, 0.478, 0.166, 0.932, 0.926, 0.007, 0.551, 0.362,\n",
        "   0.533, 0.368, 0.437, 0.178, 0.411, 0.545, 0.787, 0.594, 0.086,\n",
        "   0.951, 0.772, 0.298, 0.199, 0.157,0.401,0.631]\n",
        "import numpy as np\n",
        "li=[]\n",
        "#print(\"Lista ordenada: de menor a mayor\",l)\n",
        "#print(len(l)) #len() sirve para contar la cantidad de elementos de una lista.\n",
        "n=len(l)\n",
        "cont1=0\n",
        "cont0=0\n",
        "x=list(str(l)) #Convertimos en lista\n",
        "for i in range(0,n-1):\n",
        "  print(l[i], end=\", \")\n",
        "print()\n",
        "for i in range(0,n-1):\n",
        "  if l[i+1]<=l[i]:\n",
        "    print(l[i+1],\"<=\" ,l[i], \">> 0\")\n",
        "    cont0=cont0+1\n",
        "   # print(\" 0\",end=\", \")\n",
        "  else:\n",
        "    cont1=cont1+1\n",
        "    print(l[i+1],\">=\" ,l[i], \">> 1\")\n",
        " # print(\" 1\",end=\", \")\n",
        "print(\"Contador de 1 es:\", cont1)\n",
        "print(\"Contador de 0 es:\", cont0)\n"
      ]
    },
    {
      "source": [
        "\n",
        "import numpy as np\n",
        "\n",
        "l = [0.048, 0.591, 0.478, 0.166, 0.932, 0.926, 0.007, 0.551, 0.362,\n",
        "     0.533, 0.368, 0.437, 0.178, 0.411, 0.545, 0.787, 0.594, 0.086,\n",
        "     0.951, 0.772, 0.298, 0.199, 0.157, 0.401, 0.631]\n",
        "\n",
        "lc = []\n",
        "lc1 = []\n",
        "\n",
        "for i in range(len(l) - 1):\n",
        "\n",
        "    if l[i + 1] <= l[i]:\n",
        "        lc.append(0)\n",
        "    else:\n",
        "        lc.append(1)\n",
        "print(lc)\n",
        "\"\"\"for i in range(len(lc)-1):\n",
        "  if lc[i]==lc[i+1]:\n",
        "    print(\"Corrida\",i+1,\"es:\", 2)\n",
        "\n",
        "  else:\n",
        "    print(\"Corrida\",i+1,\"es:\", 1)\n",
        "    \"\"\"\n",
        "lr=[1,2,1,2,1,1,1,1,1,1,3,2,1,4,2]\n",
        "co=len(lr)\n",
        "\n"
      ],
      "cell_type": "code",
      "metadata": {
        "colab": {
          "base_uri": "https://localhost:8080/"
        },
        "id": "FJxpTVJ5C86p",
        "outputId": "07f713b8-b991-4ccf-dc33-56e02df2efe9"
      },
      "execution_count": 35,
      "outputs": [
        {
          "output_type": "stream",
          "name": "stdout",
          "text": [
            "[1, 0, 0, 1, 0, 0, 1, 0, 1, 0, 1, 0, 1, 1, 1, 0, 0, 1, 0, 0, 0, 0, 1, 1]\n"
          ]
        }
      ]
    },
    {
      "cell_type": "code",
      "source": [
        "#Calculamos el valor esperado\n",
        "miu=(2*n-1)/3\n",
        "var2=(16*n-29)/90\n",
        "z0=(co-miu)/(pow(var2,0.5))\n",
        "#print(miu, var2, z0)\n",
        "#Calculamos el intervalo de aceptación, alpha=0.05\n",
        "#-z_a/2 <=z0<=+Z_a/2\n",
        "Za=1.96\n",
        "if -Za<=z0<=Za:\n",
        "  print(-Za,\"<=\",z0,\"<=\",Za)\n",
        "  print(\"Se acepta la hipótesis\")\n",
        "else:\n",
        "  \"No se acepta la hipóteis\""
      ],
      "metadata": {
        "colab": {
          "base_uri": "https://localhost:8080/"
        },
        "id": "0KZv0eVfJZ5K",
        "outputId": "33302b75-3a3d-4a85-ed1b-2b76630a09da"
      },
      "execution_count": 37,
      "outputs": [
        {
          "output_type": "stream",
          "name": "stdout",
          "text": [
            "16.333333333333332 4.122222222222222 -0.6567091033031179\n",
            "-1.96 <= -0.6567091033031179 <= 1.96\n",
            "Se acepta la hipótesis\n"
          ]
        }
      ]
    },
    {
      "cell_type": "code",
      "source": [],
      "metadata": {
        "id": "7l8T9V0vM_pC"
      },
      "execution_count": null,
      "outputs": []
    },
    {
      "cell_type": "code",
      "source": [],
      "metadata": {
        "id": "JnLNY_vCFZKd"
      },
      "execution_count": null,
      "outputs": []
    }
  ]
}