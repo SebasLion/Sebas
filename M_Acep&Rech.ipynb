{
  "nbformat": 4,
  "nbformat_minor": 0,
  "metadata": {
    "colab": {
      "provenance": [],
      "authorship_tag": "ABX9TyMG+sSj2rc4CknD8yYg6dur",
      "include_colab_link": true
    },
    "kernelspec": {
      "name": "python3",
      "display_name": "Python 3"
    },
    "language_info": {
      "name": "python"
    }
  },
  "cells": [
    {
      "cell_type": "markdown",
      "metadata": {
        "id": "view-in-github",
        "colab_type": "text"
      },
      "source": [
        "<a href=\"https://colab.research.google.com/github/SebasLion/Simulacion_1_Sebas/blob/main/M_Acep%26Rech.ipynb\" target=\"_parent\"><img src=\"https://colab.research.google.com/assets/colab-badge.svg\" alt=\"Open In Colab\"/></a>"
      ]
    },
    {
      "cell_type": "markdown",
      "source": [
        "# **MÉTODO DE ACEPTACIÓN Y RECHAZO**"
      ],
      "metadata": {
        "id": "ic_AlTaFNzok"
      }
    },
    {
      "cell_type": "markdown",
      "source": [
        "\n",
        "Otra versión del pseudocódigo :\n",
        "\n",
        "Mientras: $$U \\le \\frac{f(x)}{cg(x)}$$\n",
        "\n",
        "Generar: $$X \\sim g, U \\sim U(0,1)$$\n",
        "\n",
        "Salir: $$x$$\n",
        "\n",
        "(imagen)."
      ],
      "metadata": {
        "id": "3MuD4WahNPAf"
      }
    },
    {
      "cell_type": "markdown",
      "source": [
        "## Ejemplo:\n",
        "### Generar una muestra de la variable con distribución\n",
        "\n",
        "$$f(x)=20x(1-x)^{3} \\text{ si  } 0<x<1$$"
      ],
      "metadata": {
        "id": "WptYKFJ8Oyh6"
      }
    },
    {
      "cell_type": "markdown",
      "source": [
        "Usemos $$g(x)=1 \\text{ , 0<x<1}$$\n",
        "\n",
        "Notar que $$\\frac{f(x)}{g(x)}=20x(1-x)^{3}$$\n",
        "\n",
        "Hay calcular el máximo de $20x(1-x)^{3}$. Usamos el criterio de la primera derivada.\n",
        "\n",
        "$$f(x)=20x(1-x)^{3}$$\n",
        "$$f'(x)=-60x*(1-x)^{2} + 20(1-x)^{3}$$\n",
        "\n",
        "Simplificando: $$-20(x-1)^{2}(4x-1)=0$$\n",
        "\n",
        "Una raíz es:\n",
        "$$4x-1=0→x=\\frac{1}{4}$$\n",
        "\n",
        "Entonces: $$c=20\\left(\\frac{1}{4}\\right)\\left(\\frac{3}{4}\\right)^{3}= \\frac{135}{64}$$"
      ],
      "metadata": {
        "id": "JWN9wjQ3O5GJ"
      }
    },
    {
      "cell_type": "code",
      "execution_count": 2,
      "metadata": {
        "id": "x2vz7g6mM9MU"
      },
      "outputs": [],
      "source": [
        "#Importamos las librerias que usaremos\n",
        "import random as rnd\n",
        "import numpy as np\n",
        "import matplotlib.pyplot as plt"
      ]
    },
    {
      "cell_type": "code",
      "source": [
        "#Paso 1. Generar una y con densidad g.  Y~U(0,1). En este caso g=1\n",
        "def f(c,n): # Creamos una función para f(x)\n",
        "  l=[] #Lista vacía para guardar el valor de x si se cumple la condición\n",
        "  for i in range(n):\n",
        "    x=rnd.random() # número aleatorio entre 0 y 1\n",
        "    u=rnd.random() # número aleatorio entre 0 y 1\n",
        "    f = 20 * x * (1-x) ** 3 #La función que estamos resolviendo\n",
        "    if u <= (f / (1*c)): #Verificamos si la condición se cumple (La condición de aceptación y rechazo)\n",
        "      l.append(x) #Agregamos el valor de x a la lista\n",
        "  return l"
      ],
      "metadata": {
        "id": "7ghckdjXPj64"
      },
      "execution_count": 4,
      "outputs": []
    },
    {
      "cell_type": "code",
      "source": [
        "f(135/64, 5) #Verificamos si la función funciona"
      ],
      "metadata": {
        "colab": {
          "base_uri": "https://localhost:8080/"
        },
        "id": "62j-v5r-PtQR",
        "outputId": "22eb02ac-c8c6-43c1-f645-060c23695bfd"
      },
      "execution_count": 5,
      "outputs": [
        {
          "output_type": "execute_result",
          "data": {
            "text/plain": [
              "[0.03694270856861259, 0.23780965514764862, 0.445107141047695]"
            ]
          },
          "metadata": {},
          "execution_count": 5
        }
      ]
    },
    {
      "cell_type": "code",
      "source": [
        "G=f(135/64, 10000000)"
      ],
      "metadata": {
        "id": "psixjB7VQiO3"
      },
      "execution_count": 6,
      "outputs": []
    },
    {
      "cell_type": "code",
      "source": [
        "mu=np.mean ( G ) #Calcular la media\n",
        "sigma2=np.var ( G ) #Calcular la varianza"
      ],
      "metadata": {
        "id": "EV3Il4DUQkdP"
      },
      "execution_count": 7,
      "outputs": []
    },
    {
      "cell_type": "code",
      "source": [
        "plt.hist ( G ,  bins= 200 ,  color= \"blue\" ) #Gráfica de la función de densidad\n",
        "plt.title ( \"Función de Densidad\" )"
      ],
      "metadata": {
        "colab": {
          "base_uri": "https://localhost:8080/",
          "height": 490
        },
        "id": "ulNKVDTSQnoJ",
        "outputId": "73e63495-2420-4b7e-9077-2fe605dd7682"
      },
      "execution_count": 9,
      "outputs": [
        {
          "output_type": "execute_result",
          "data": {
            "text/plain": [
              "Text(0.5, 1.0, 'Función de Densidad')"
            ]
          },
          "metadata": {},
          "execution_count": 9
        },
        {
          "output_type": "display_data",
          "data": {
            "text/plain": [
              "<Figure size 640x480 with 1 Axes>"
            ],
            "image/png": "[encoded data removed]"
          },
          "metadata": {}
        }
      ]
    },
    {
      "cell_type": "code",
      "source": [
        "#Esta función nos permite calcular la función acumulativa\n",
        "def cdf(muestra):\n",
        "  n=len(muestra)\n",
        "  x=np.sort(muestra)\n",
        "  y=np.arange(0,n)/n\n",
        "  return x,y\n",
        ""
      ],
      "metadata": {
        "id": "1vYq2dMuQqTK"
      },
      "execution_count": 10,
      "outputs": []
    },
    {
      "cell_type": "code",
      "source": [
        "X,Y=cdf(G)"
      ],
      "metadata": {
        "id": "uuPMMLXJQ4n0"
      },
      "execution_count": 11,
      "outputs": []
    },
    {
      "cell_type": "code",
      "source": [
        "plt.step(X,Y) #El Rango de la función es de 0 a 1\n",
        "#El dominio es de 0 a infinito\n",
        "#Es creciente y monótona\n",
        "plt.title(\"Función acumulativa\")\n",
        "plt.axhline(1.0000001, color=\"red\",linestyle = \"dashed\")"
      ],
      "metadata": {
        "colab": {
          "base_uri": "https://localhost:8080/",
          "height": 490
        },
        "id": "CHBWMHBNQ7bA",
        "outputId": "85014de5-fb21-40eb-9fc8-64d804da9d79"
      },
      "execution_count": 12,
      "outputs": [
        {
          "output_type": "execute_result",
          "data": {
            "text/plain": [
              "<matplotlib.lines.Line2D at 0x79e82f038880>"
            ]
          },
          "metadata": {},
          "execution_count": 12
        },
        {
          "output_type": "display_data",
          "data": {
            "text/plain": [
              "<Figure size 640x480 with 1 Axes>"
            ],
            "image/png": "[encoded data removed]"
          },
          "metadata": {}
        }
      ]
    },
    {
      "cell_type": "code",
      "source": [],
      "metadata": {
        "id": "anGjKfBMRATA"
      },
      "execution_count": null,
      "outputs": []
    }
  ]
}