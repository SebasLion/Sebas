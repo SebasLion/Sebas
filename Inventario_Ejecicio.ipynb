{
  "nbformat": 4,
  "nbformat_minor": 0,
  "metadata": {
    "colab": {
      "provenance": [],
      "authorship_tag": "ABX9TyO+YwOfsF8Yau2rZykak9xq",
      "include_colab_link": true
    },
    "kernelspec": {
      "name": "python3",
      "display_name": "Python 3"
    },
    "language_info": {
      "name": "python"
    }
  },
  "cells": [
    {
      "cell_type": "markdown",
      "metadata": {
        "id": "view-in-github",
        "colab_type": "text"
      },
      "source": [
        "<a href=\"https://colab.research.google.com/github/SebasLion/Simulacion_1_Sebas/blob/main/Inventario_Ejecicio.ipynb\" target=\"_parent\"><img src=\"https://colab.research.google.com/assets/colab-badge.svg\" alt=\"Open In Colab\"/></a>"
      ]
    },
    {
      "cell_type": "code",
      "execution_count": 2,
      "metadata": {
        "id": "0x5T2Y4ZqlB1"
      },
      "outputs": [],
      "source": [
        "#Importamos las librerías que usaremos\n",
        "import numpy as np\n",
        "import random as rnd\n",
        "import matplotlib.pyplot as plt\n",
        "from tabulate import tabulate"
      ]
    },
    {
      "cell_type": "code",
      "source": [
        "inv_ini=150 #Valor inicial de nuestro inventario\n",
        "Resurtir=100 #El valor sobre el que nos basaremos para resurtir\n",
        "fac_est=[1.2, 1.0, 0.90, 0.80, 0.80, 0.70, 0.80, 0.90, 1.00, 1.20, 1.30, 1.40,] #Factores estacionarios por mes\n",
        "\"\"\"Creamos listas vacias para después llenarlas de nuestros datos\n",
        "y poder crear una tabla\"\"\"\n",
        "mes=[] #Indica el mes en el que estamos.\n",
        "INV_INI = [] #Lista donde se guardará los datos del inventario por mes\n",
        "Inv_ini=[]  # Lista auxiliar para los valores iniciales del inventario\n",
        "Num_Ale=[] #Lista donde se guardará el valor de x\n",
        "Dem_Ajus=[] #Lista donde se guarda el valor de x multiplicado por el factor estacionario del mes acorde\n",
        "Inv_Fin=[] #Lista donde se guardará el valor de los productos restantes por mes\n",
        "Falt=[] # Lista donde se guardará el valor de los prodcutos faltantes por mes\n",
        "Num_Orden=[] # Lista donde se guardará el valor de la posición de levantar una orden\n",
        "Inv_Mes_Prom=[] # Lista donde se guardará el valor promedio del inventario por mes\n",
        "num_mes=12 # La cantidad de meses que queremos simular\n",
        "orden = (4+num_mes)*[0] #Lista que nos ayudará a agregar el resurtido adecuadamente\n",
        "co = 0 # Un contador\n",
        "j=0 # Un contador para la alza de orden\n",
        "\n",
        "\n",
        "headers=[\"Mes\", \"Inventario inicial\",  \"Número aleatorio\",  \"Demanda ajustada\",  \"Inventario final\", \"Faltante\", \"Orden\", \"Inventario mensual promedio\"]\n",
        "#Los encabezados para la tabla\n",
        "for i in range (0,num_mes): #Un ciclo para simular el proceso n veces\n",
        "  u= rnd.random() #Generamos un número aleatorio entre 0 y 1 para indicar la cantidad de pedios\n",
        "  R = rnd.random() #Generamos un número aleatorio entre 0 y 1 para indicar en cuántos meses nos llegará el resurtido\n",
        "   # Ajustar índice de fac_est usando módulo\n",
        "  fac_est_index = i % len(fac_est)\n",
        "  #Lo sigueinte son las condiciones de la transformada inversa. Dado cierto valor de u, nos devuelve un valor x\n",
        "  if 0<= u < 0.010:\n",
        "    x=35\n",
        "  elif 0.010<= u < 0.025:\n",
        "    x=36\n",
        "  elif 0.025<= u < 0.045:\n",
        "    x=37\n",
        "  elif 0.045<= u < 0.065:\n",
        "    x=38\n",
        "  elif 0.065<= u < 0.087:\n",
        "    x=39\n",
        "  elif 0.087<= u < 0.110:\n",
        "    x=40\n",
        "  elif 0.110<= u < 0.135:\n",
        "    x=41\n",
        "  elif 0.135<= u < 0.162:\n",
        "    x=42\n",
        "  elif 0.162<= u < 0.190:\n",
        "    x=43\n",
        "  elif 0.190<= u < 0.219:\n",
        "    x=44\n",
        "  elif 0.219<= u < 0.254:\n",
        "    x=45\n",
        "  elif 0.254<= u < 0.299:\n",
        "    x=46\n",
        "  elif 0.299<= u < 0.359:\n",
        "    x=47\n",
        "  elif 0.359<= u < 0.424:\n",
        "    x=48\n",
        "  elif 0.424<= u < 0.494:\n",
        "    x=49\n",
        "  elif 0.494<= u < 0.574:\n",
        "    x=50\n",
        "  elif 0.574<= u < 0.649:\n",
        "    x=51\n",
        "  elif 0.649<= u < 0.719:\n",
        "    x=52\n",
        "  elif 0.719<= u < 0.784:\n",
        "    x=53\n",
        "  elif 0.784<= u < 0.844:\n",
        "    x=54\n",
        "  elif 0.844<= u < 0.894:\n",
        "    x=55\n",
        "  elif 0.894<= u < 0.934:\n",
        "    x=56\n",
        "  elif 0.934<= u < 0.964:\n",
        "    x=57\n",
        "  elif 0.964<= u < 0.980:\n",
        "    x=58\n",
        "  elif 0.980<= u < 0.995:\n",
        "    x=59\n",
        "  elif 0.995<= u < 1.000:\n",
        "    x=60\n",
        "  mes.append(i+1) #Agregamos el número de mes\n",
        "  Inv_ini.append(inv_ini) #Agregamos el valor inicial del inventario (150)\n",
        "  Num_Ale.append(x) #Agremos el valor de x dado el número aletorio que salió\n",
        "  #Dem_Ajus.append(round(x*fac_est[i])) #Ignoren esto\n",
        "  Dem_Ajus.append(round(x * fac_est[fac_est_index])) #Agregamos el valor de x multiplicado por el factor estacionario del mes acorde. Eso es la demanda ajustada\n",
        "  INV_INI.append(Inv_ini[i] + orden[i])  # Calcular INV_INI como Inv_ini + orden, esta es nuestra lista del inventario\n",
        "  Inv_Fin.append(INV_INI[i] - Dem_Ajus[i])  # Calcular Inv_Fin como Inv_ini - Dem_Ajus\n",
        "  if orden[i]==200: #Una condición que nos ayuda a resurtir adecuadamente\n",
        "    co = 0\n",
        "  if Inv_Fin[i]<Resurtir and co==0: # La condición para resurtir\n",
        "    j+=1 # El contador para saber cuántas veces se levanta pedido\n",
        "    Num_Orden.append(j) #Agregamos el número de la orden\n",
        "    co += 1\n",
        "    #Condiciones para saber en cuántos mes nos resurtirán\n",
        "    # En cada caso se resurtirá 200 piezas, pero en distinto mes\n",
        "    if 0 <= R < 0.30:\n",
        "      y=2\n",
        "      inv_ini=Inv_Fin[i]\n",
        "      orden[i+y] = 200\n",
        "    elif 0.30<= R < 0.70:\n",
        "      y=3\n",
        "      inv_ini=Inv_Fin[i]\n",
        "      orden[i+y] = 200\n",
        "    elif 0.70<= R < 1:\n",
        "      y=4\n",
        "      inv_ini=Inv_Fin[i]\n",
        "      orden[i+y] = 200\n",
        "  else:\n",
        "    Num_Orden.append(0) # Si no se cumple con la condición del resurtimiento, se agrega 0\n",
        "    inv_ini=Inv_Fin[i] # Asignamos el valor final a una variable para que se guarde en la lista de inventario inicial\n",
        "  Inv_Mes_Prom.append(round((INV_INI[i]+Inv_Fin[i])/2)) # Se calcula el promedio del inventario mensual\n",
        "  if Inv_Fin[i] < 0: # Esta condición nos ayuda a saber si tenemos faltante de inventario en el mes\n",
        "    Falt.append(Dem_Ajus[i] - INV_INI[i]) #Calculamos el faltante\n",
        "    Inv_Mes_Prom[i]=(abs(round((INV_INI[i]/2)*(INV_INI[i]/Dem_Ajus[i])))) #Calculamos el promedio del inventario mensual en el caso de tener faltante (la fórmula la dio el libro)\n",
        "    Inv_Fin[i]=0 # Como hay faltante, ya no hay en inventario al final del mes. Por lo que es 0\n",
        "  else:\n",
        "    Falt.append(0) # En caso de no tener faltante, se agrega 0\n",
        "#print(orden)\n",
        "table=list(zip(mes, INV_INI,  Num_Ale, Dem_Ajus, Inv_Fin, Falt, Num_Orden, Inv_Mes_Prom)) #Creamos la tabla\"\"\n",
        "print(tabulate(table, headers, tablefmt=\"simple_grid\")) #Imprimimos la tabla\n"
      ],
      "metadata": {
        "colab": {
          "base_uri": "https://localhost:8080/"
        },
        "id": "pDxgAdVQ4fy9",
        "outputId": "6bdc6b28-88ac-4062-b45b-340984ca127d"
      },
      "execution_count": 114,
      "outputs": [
        {
          "output_type": "stream",
          "name": "stdout",
          "text": [
            "┌───────┬──────────────────────┬────────────────────┬────────────────────┬────────────────────┬────────────┬─────────┬───────────────────────────────┐\n",
            "│   Mes │   Inventario inicial │   Número aleatorio │   Demanda ajustada │   Inventario final │   Faltante │   Orden │   Inventario mensual promedio │\n",
            "├───────┼──────────────────────┼────────────────────┼────────────────────┼────────────────────┼────────────┼─────────┼───────────────────────────────┤\n",
            "│     1 │                  150 │                 52 │                 62 │                 88 │          0 │       1 │                           119 │\n",
            "├───────┼──────────────────────┼────────────────────┼────────────────────┼────────────────────┼────────────┼─────────┼───────────────────────────────┤\n",
            "│     2 │                   88 │                 55 │                 55 │                 33 │          0 │       0 │                            60 │\n",
            "├───────┼──────────────────────┼────────────────────┼────────────────────┼────────────────────┼────────────┼─────────┼───────────────────────────────┤\n",
            "│     3 │                  233 │                 46 │                 41 │                192 │          0 │       0 │                           212 │\n",
            "├───────┼──────────────────────┼────────────────────┼────────────────────┼────────────────────┼────────────┼─────────┼───────────────────────────────┤\n",
            "│     4 │                  192 │                 54 │                 43 │                149 │          0 │       0 │                           170 │\n",
            "├───────┼──────────────────────┼────────────────────┼────────────────────┼────────────────────┼────────────┼─────────┼───────────────────────────────┤\n",
            "│     5 │                  149 │                 47 │                 38 │                111 │          0 │       0 │                           130 │\n",
            "├───────┼──────────────────────┼────────────────────┼────────────────────┼────────────────────┼────────────┼─────────┼───────────────────────────────┤\n",
            "│     6 │                  111 │                 51 │                 36 │                 75 │          0 │       2 │                            93 │\n",
            "├───────┼──────────────────────┼────────────────────┼────────────────────┼────────────────────┼────────────┼─────────┼───────────────────────────────┤\n",
            "│     7 │                   75 │                 41 │                 33 │                 42 │          0 │       0 │                            58 │\n",
            "├───────┼──────────────────────┼────────────────────┼────────────────────┼────────────────────┼────────────┼─────────┼───────────────────────────────┤\n",
            "│     8 │                   42 │                 60 │                 54 │                  0 │         12 │       0 │                            16 │\n",
            "├───────┼──────────────────────┼────────────────────┼────────────────────┼────────────────────┼────────────┼─────────┼───────────────────────────────┤\n",
            "│     9 │                  -12 │                 54 │                 54 │                  0 │         66 │       0 │                             1 │\n",
            "├───────┼──────────────────────┼────────────────────┼────────────────────┼────────────────────┼────────────┼─────────┼───────────────────────────────┤\n",
            "│    10 │                  134 │                 52 │                 62 │                 72 │          0 │       3 │                           103 │\n",
            "├───────┼──────────────────────┼────────────────────┼────────────────────┼────────────────────┼────────────┼─────────┼───────────────────────────────┤\n",
            "│    11 │                   72 │                 53 │                 69 │                  3 │          0 │       0 │                            38 │\n",
            "├───────┼──────────────────────┼────────────────────┼────────────────────┼────────────────────┼────────────┼─────────┼───────────────────────────────┤\n",
            "│    12 │                  203 │                 51 │                 71 │                132 │          0 │       0 │                           168 │\n",
            "└───────┴──────────────────────┴────────────────────┴────────────────────┴────────────────────┴────────────┴─────────┴───────────────────────────────┘\n"
          ]
        }
      ]
    },
    {
      "cell_type": "markdown",
      "source": [
        "# Calcular costos anuales del sistema de inventario\n",
        "\n",
        "De acuerdo al ejercicio, cuesta $100$ pesos ordenar por ocasión, el costo de faltante es $50$ pesos por equipo y el costo por llevar inventario es $1.67$ por unidad y el costo total  es la suma."
      ],
      "metadata": {
        "id": "6JdG7Q0KxQOm"
      }
    },
    {
      "cell_type": "code",
      "source": [
        "Costo_inv=sum(Inv_Mes_Prom)*1.67 #Calcula el costo de administrar el inventario\n",
        "Costo_faltante=sum(Falt)*50 #Calcula el costo de tener faltante en el inventario (pérdida de oportunidad)\n",
        "Costo_ordenar=(j)*100 #Calcula el costo que tiene ordenar un resurtir\n",
        "\n",
        "Costo_total = Costo_inv + Costo_faltante + Costo_ordenar #La suma de los costos anteriores nos da el costo final"
      ],
      "metadata": {
        "id": "g5uuyPCo2DED"
      },
      "execution_count": 115,
      "outputs": []
    },
    {
      "cell_type": "code",
      "source": [
        "#Imprimos cada costo para ver el resultado\n",
        "print(\"El costo de ordenar es: \", Costo_ordenar)\n",
        "print(\"El costo de faltante es: \", Costo_faltante)\n",
        "print(\"El costo de inventario es: \", Costo_inv)\n",
        "print(\"El costo total del sistema de inventario es: \", Costo_total)"
      ],
      "metadata": {
        "colab": {
          "base_uri": "https://localhost:8080/"
        },
        "id": "kJGDX2RD3qZs",
        "outputId": "2dd5f04f-fb9d-4eb8-efd3-acd162047ab5"
      },
      "execution_count": 116,
      "outputs": [
        {
          "output_type": "stream",
          "name": "stdout",
          "text": [
            "El costo de ordenar es:  300\n",
            "El costo de faltante es:  3900\n",
            "El costo de inventario es:  1950.56\n",
            "El costo total del sistema de inventario es:  6150.5599999999995\n"
          ]
        }
      ]
    },
    {
      "cell_type": "code",
      "source": [],
      "metadata": {
        "id": "3-mwljYbaKea"
      },
      "execution_count": null,
      "outputs": []
    }
  ]
}