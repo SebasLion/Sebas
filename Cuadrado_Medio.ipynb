{
  "nbformat": 4,
  "nbformat_minor": 0,
  "metadata": {
    "colab": {
      "provenance": [],
      "authorship_tag": "ABX9TyOzRFIMI0s9lDN1gUhvE0oW",
      "include_colab_link": true
    },
    "kernelspec": {
      "name": "python3",
      "display_name": "Python 3"
    },
    "language_info": {
      "name": "python"
    }
  },
  "cells": [
    {
      "cell_type": "markdown",
      "metadata": {
        "id": "view-in-github",
        "colab_type": "text"
      },
      "source": [
        "<a href=\"https://colab.research.google.com/github/SebasLion/Simulacion_1_Sebas/blob/main/Cuadrado_Medio.ipynb\" target=\"_parent\"><img src=\"https://colab.research.google.com/assets/colab-badge.svg\" alt=\"Open In Colab\"/></a>"
      ]
    },
    {
      "cell_type": "markdown",
      "source": [
        "# Concepto\n",
        "El método del cuadrado medio consiste en un tener un número semilla que se conoce como \"x0\". Este método no es tan útil porque tiene un ciclo de vida relativamente corto a comparación de otros métodos.\n",
        "\n",
        "1. Elegimos un número semilla de 4 dígitos.\n",
        "2. Lo elevemamos al cuadrado.\n",
        "3. De x0^2 escogemos los números centrales como nuestra nueva semilla.\n",
        "4. Repetimos el algoritmo.\n",
        "\n"
      ],
      "metadata": {
        "id": "o6hrfjYBdAwL"
      }
    },
    {
      "cell_type": "code",
      "source": [
        "\n",
        "nsemilla=1117  #Nuestro número Semilla\n",
        "cuadrado=nsemilla**2 #Elvamos al cuadrado a X0\n",
        "print(\"La primera semilla es: \",nsemilla)\n",
        "print(\"El primer cuadrado es:\",cuadrado)\n",
        "num=list(str(cuadrado)) #Convertimos a X0^2 en una lista de caracteres\n",
        "\n",
        "\n",
        "for i in range(0, 10): #Creamos un ciclo para el algoritmo\n",
        "    if len(num)==8: #Si x0^2 cumple la condición de tener 8 cifras, se realiza este caso\n",
        "                num1=(num[2]+num[3]+num[4]+num[5]) #Escogemos los 4 números centrales de x0^2\n",
        "                nsemilla=int(num1) #Convertimos los números centrales en una variable tipo entero\n",
        "                cuadrado=nsemilla**2\n",
        "                print(i+1,\"La nueva semilla es:\",nsemilla,end=\".\")\n",
        "                print(\" Y elevada al cuadrado es:\",cuadrado)\n",
        "                print()\n",
        "                num=list(str(cuadrado)) #Convertimos a X0^2 en una lista de caracteres\n",
        "    else: #Para el caso en que x0^2 tenga 7 caracteres, le agregamos un 0 para que tenga 8\n",
        "                num0=[0]+num\n",
        "                num1=(num0[2]+num0[3]+num0[4]+num0[5]) #Escogemos los 4 números centrales de x0^2\n",
        "                nsemilla=int(num1) #Convertimos los números centrales en una variable tipo entero\n",
        "                cuadrado=nsemilla**2\n",
        "                print(i+1,\"La nueva semilla es:\",nsemilla,end=\".\")\n",
        "                print(\" Y elevada al cuadrado es:\", cuadrado)\n",
        "                print()\n",
        "                num=list(str(cuadrado)) #Convertimos a X0^2 en una lista de caracteres"
      ],
      "metadata": {
        "colab": {
          "base_uri": "https://localhost:8080/"
        },
        "id": "XSD1G7UebEgs",
        "outputId": "dfbe663a-59f9-44fb-8e18-eeb4bd367ac7"
      },
      "execution_count": 6,
      "outputs": [
        {
          "output_type": "stream",
          "name": "stdout",
          "text": [
            "La primera semilla es:  1117\n",
            "El primer cuadrado es: 1247689\n",
            "1 La nueva semilla es: 2476. Y elevada al cuadrado es: 6130576\n",
            "\n",
            "2 La nueva semilla es: 1305. Y elevada al cuadrado es: 1703025\n",
            "\n",
            "3 La nueva semilla es: 7030. Y elevada al cuadrado es: 49420900\n",
            "\n",
            "4 La nueva semilla es: 4209. Y elevada al cuadrado es: 17715681\n",
            "\n",
            "5 La nueva semilla es: 7156. Y elevada al cuadrado es: 51208336\n",
            "\n",
            "6 La nueva semilla es: 2083. Y elevada al cuadrado es: 4338889\n",
            "\n",
            "7 La nueva semilla es: 3388. Y elevada al cuadrado es: 11478544\n",
            "\n",
            "8 La nueva semilla es: 4785. Y elevada al cuadrado es: 22896225\n",
            "\n",
            "9 La nueva semilla es: 8962. Y elevada al cuadrado es: 80317444\n",
            "\n",
            "10 La nueva semilla es: 3174. Y elevada al cuadrado es: 10074276\n",
            "\n"
          ]
        }
      ]
    },
    {
      "cell_type": "code",
      "source": [],
      "metadata": {
        "id": "5nbmA_imeAfo"
      },
      "execution_count": null,
      "outputs": []
    }
  ]
}