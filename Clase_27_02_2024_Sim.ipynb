{
  "nbformat": 4,
  "nbformat_minor": 0,
  "metadata": {
    "colab": {
      "provenance": [],
      "authorship_tag": "ABX9TyOb3h6ER97IaPGfwXbuJZ6r",
      "include_colab_link": true
    },
    "kernelspec": {
      "name": "python3",
      "display_name": "Python 3"
    },
    "language_info": {
      "name": "python"
    }
  },
  "cells": [
    {
      "cell_type": "markdown",
      "metadata": {
        "id": "view-in-github",
        "colab_type": "text"
      },
      "source": [
        "<a href=\"https://colab.research.google.com/github/SebasLion/Sebas/blob/main/Clase_27_02_2024_Sim.ipynb\" target=\"_parent\"><img src=\"https://colab.research.google.com/assets/colab-badge.svg\" alt=\"Open In Colab\"/></a>"
      ]
    },
    {
      "cell_type": "markdown",
      "source": [
        "Hoy vamos a programar el Metodo de congruencia. El cual consiste en dar un número semilla que es xo. Para calcular xn+1= a*x0+c, a eso se le calcula el módulo de un número \"m\". Como parámetro a<xn<m; c, m, a son constantes."
      ],
      "metadata": {
        "id": "vssfHrf6KEmo"
      }
    },
    {
      "cell_type": "code",
      "source": [
        "x0=6\n",
        "m=16\n",
        "c=5\n",
        "a=5\n",
        "xn=a*x0+c\n",
        "xnmod=xn%m\n",
        "print(xn,xnmod)"
      ],
      "metadata": {
        "colab": {
          "base_uri": "https://localhost:8080/"
        },
        "id": "1VCuMJ0dI12J",
        "outputId": "b81edfe6-00e6-4e70-f111-b8d266c24d70"
      },
      "execution_count": 8,
      "outputs": [
        {
          "output_type": "stream",
          "name": "stdout",
          "text": [
            "35 3\n"
          ]
        }
      ]
    },
    {
      "cell_type": "code",
      "source": [
        "x0=6\n",
        "m=16\n",
        "c=5\n",
        "a=5\n",
        "print(\"i\",\"|\",\"x0\",\"|\",\"xn\",\"|\",\"xnmod\",\"|\",\"xn/16\")\n",
        "print(\"______________________________\")\n",
        "for i in range(1,6):\n",
        "  xn=a*x0+c\n",
        "  xnmod=xn%m\n",
        "\n",
        "  print(i,\"|\",x0,\"|\",xn,\" |\",xnmod,\"  |\",x0/16)\n",
        "  print(\"______________________________\")\n",
        "  x0=xnmod\n"
      ],
      "metadata": {
        "colab": {
          "base_uri": "https://localhost:8080/"
        },
        "id": "MirUtpjXL7Sz",
        "outputId": "1d8f68c7-7618-4653-b2ab-c99295c7adc4"
      },
      "execution_count": 68,
      "outputs": [
        {
          "output_type": "stream",
          "name": "stdout",
          "text": [
            "i | x0 | xn | xnmod | xn/16\n",
            "______________________________\n",
            "1 | 6 | 35  | 3   | 0.375\n",
            "______________________________\n",
            "2 | 3 | 20  | 4   | 0.1875\n",
            "______________________________\n",
            "3 | 4 | 25  | 9   | 0.25\n",
            "______________________________\n",
            "4 | 9 | 50  | 2   | 0.5625\n",
            "______________________________\n",
            "5 | 2 | 15  | 15   | 0.125\n",
            "______________________________\n"
          ]
        }
      ]
    },
    {
      "cell_type": "code",
      "source": [
        "x0=6\n",
        "m=16\n",
        "c=5\n",
        "a=5\n",
        "from tabulate import tabulate\n",
        "\n",
        "for i in range(1,50):\n",
        "  xn=a*x0+c\n",
        "  xnmod=xn%m\n",
        "  x0=xnmod\n",
        "  table=[i, x0, xn, xnmod, x0/16]\n",
        "\n",
        "headers=[\"i\", \"x0\",  \"xn\",  \"xnmod\",  \"x0/16\"]\n",
        "#table = [[\"spam\",42],[\"eggs\",451],[\"bacon\",0]]\n",
        "#headers = [\"item\", \"qty\"]\n",
        "print(tabulate(table, headers, tablefmt=\"simple\"))\n"
      ],
      "metadata": {
        "id": "9wnz3EGmOxY1"
      },
      "execution_count": null,
      "outputs": []
    }
  ]
}