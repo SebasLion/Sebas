{
  "nbformat": 4,
  "nbformat_minor": 0,
  "metadata": {
    "colab": {
      "provenance": [],
      "authorship_tag": "ABX9TyOj+XqIEUzgG3i+cBzK0po0",
      "include_colab_link": true
    },
    "kernelspec": {
      "name": "python3",
      "display_name": "Python 3"
    },
    "language_info": {
      "name": "python"
    }
  },
  "cells": [
    {
      "cell_type": "markdown",
      "metadata": {
        "id": "view-in-github",
        "colab_type": "text"
      },
      "source": [
        "<a href=\"https://colab.research.google.com/github/SebasLion/Sebas/blob/main/Clase_27_02_2024_Sim.ipynb\" target=\"_parent\"><img src=\"https://colab.research.google.com/assets/colab-badge.svg\" alt=\"Open In Colab\"/></a>"
      ]
    },
    {
      "cell_type": "markdown",
      "source": [
        "Hoy vamos a programar el Metodo de congruencia. El cual consiste en dar un número semilla que es xo. Para calcular xn+1= a*x0+c, a eso se le calcula el módulo de un número \"m\". Como parámetro a<xn<m; c, m, a son constantes."
      ],
      "metadata": {
        "id": "vssfHrf6KEmo"
      }
    },
    {
      "cell_type": "code",
      "source": [
        "x0=6\n",
        "m=16\n",
        "c=5\n",
        "a=5\n",
        "xn=a*x0+c\n",
        "xnmod=xn%m\n",
        "print(xn,xnmod)"
      ],
      "metadata": {
        "colab": {
          "base_uri": "https://localhost:8080/"
        },
        "id": "1VCuMJ0dI12J",
        "outputId": "b81edfe6-00e6-4e70-f111-b8d266c24d70"
      },
      "execution_count": 8,
      "outputs": [
        {
          "output_type": "stream",
          "name": "stdout",
          "text": [
            "35 3\n"
          ]
        }
      ]
    },
    {
      "cell_type": "code",
      "source": [
        "x0=6\n",
        "m=16\n",
        "c=5\n",
        "a=5\n",
        "print(\"i\",\"|\",\"x0\",\"|\",\"xn\",\"|\",\"xnmod\",\"|\",\"xn/16\")\n",
        "print(\"______________________________\")\n",
        "for i in range(1,6):\n",
        "  xn=a*x0+c\n",
        "  xnmod=xn%m\n",
        "\n",
        "  print(i,\"|\",x0,\"|\",xn,\" |\",xnmod,\"  |\",x0/16)\n",
        "  print(\"______________________________\")\n",
        "  x0=xnmod\n"
      ],
      "metadata": {
        "colab": {
          "base_uri": "https://localhost:8080/"
        },
        "id": "MirUtpjXL7Sz",
        "outputId": "1d8f68c7-7618-4653-b2ab-c99295c7adc4"
      },
      "execution_count": 68,
      "outputs": [
        {
          "output_type": "stream",
          "name": "stdout",
          "text": [
            "i | x0 | xn | xnmod | xn/16\n",
            "______________________________\n",
            "1 | 6 | 35  | 3   | 0.375\n",
            "______________________________\n",
            "2 | 3 | 20  | 4   | 0.1875\n",
            "______________________________\n",
            "3 | 4 | 25  | 9   | 0.25\n",
            "______________________________\n",
            "4 | 9 | 50  | 2   | 0.5625\n",
            "______________________________\n",
            "5 | 2 | 15  | 15   | 0.125\n",
            "______________________________\n"
          ]
        }
      ]
    },
    {
      "cell_type": "code",
      "source": [
        "x0=6\n",
        "m=16\n",
        "c=5\n",
        "a=5\n",
        "from tabulate import tabulate\n",
        "headers=[\"i\", \"x0\",  \"xn\",  \"xnmod\",  \"x0/16\"]\n",
        "print(tabulate(headers))\n",
        "for i in range(1,11):\n",
        "  xn=a*x0+c\n",
        "  xnmod=xn%m\n",
        "  x0=xnmod\n",
        "  table=[[i, x0, xn, xnmod, x0/16]]\n",
        "\n",
        "  print(tabulate(table, tablefmt=\"simple_grid\"))\n",
        "#table = [[\"spam\",42],[\"eggs\",451],[\"bacon\",0]]\n",
        "#headers = [\"item\", \"qty\"]\n",
        "\n"
      ],
      "metadata": {
        "colab": {
          "base_uri": "https://localhost:8080/"
        },
        "id": "9wnz3EGmOxY1",
        "outputId": "c39ce169-3401-4bb6-87cd-b103360d1be9"
      },
      "execution_count": 105,
      "outputs": [
        {
          "output_type": "stream",
          "name": "stdout",
          "text": [
            "-  -  -  -  -\n",
            "i\n",
            "x  0\n",
            "x  n\n",
            "x  n  m  o  d\n",
            "x  0  /  1  6\n",
            "-  -  -  -  -\n",
            "┌───┬───┬────┬───┬────────┐\n",
            "│ 1 │ 3 │ 35 │ 3 │ 0.1875 │\n",
            "└───┴───┴────┴───┴────────┘\n",
            "┌───┬───┬────┬───┬──────┐\n",
            "│ 2 │ 4 │ 20 │ 4 │ 0.25 │\n",
            "└───┴───┴────┴───┴──────┘\n",
            "┌───┬───┬────┬───┬────────┐\n",
            "│ 3 │ 9 │ 25 │ 9 │ 0.5625 │\n",
            "└───┴───┴────┴───┴────────┘\n",
            "┌───┬───┬────┬───┬───────┐\n",
            "│ 4 │ 2 │ 50 │ 2 │ 0.125 │\n",
            "└───┴───┴────┴───┴───────┘\n",
            "┌───┬────┬────┬────┬────────┐\n",
            "│ 5 │ 15 │ 15 │ 15 │ 0.9375 │\n",
            "└───┴────┴────┴────┴────────┘\n",
            "┌───┬───┬────┬───┬───┐\n",
            "│ 6 │ 0 │ 80 │ 0 │ 0 │\n",
            "└───┴───┴────┴───┴───┘\n",
            "┌───┬───┬───┬───┬────────┐\n",
            "│ 7 │ 5 │ 5 │ 5 │ 0.3125 │\n",
            "└───┴───┴───┴───┴────────┘\n",
            "┌───┬────┬────┬────┬───────┐\n",
            "│ 8 │ 14 │ 30 │ 14 │ 0.875 │\n",
            "└───┴────┴────┴────┴───────┘\n",
            "┌───┬────┬────┬────┬────────┐\n",
            "│ 9 │ 11 │ 75 │ 11 │ 0.6875 │\n",
            "└───┴────┴────┴────┴────────┘\n",
            "┌────┬────┬────┬────┬──────┐\n",
            "│ 10 │ 12 │ 60 │ 12 │ 0.75 │\n",
            "└────┴────┴────┴────┴──────┘\n"
          ]
        }
      ]
    },
    {
      "cell_type": "code",
      "source": [],
      "metadata": {
        "id": "pUL1CAowaQHj"
      },
      "execution_count": null,
      "outputs": []
    }
  ]
}