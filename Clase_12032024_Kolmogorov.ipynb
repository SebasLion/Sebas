{
  "nbformat": 4,
  "nbformat_minor": 0,
  "metadata": {
    "colab": {
      "provenance": [],
      "authorship_tag": "ABX9TyNyjin3FiIWFV8Pu/aJr2Wn",
      "include_colab_link": true
    },
    "kernelspec": {
      "name": "python3",
      "display_name": "Python 3"
    },
    "language_info": {
      "name": "python"
    }
  },
  "cells": [
    {
      "cell_type": "markdown",
      "metadata": {
        "id": "view-in-github",
        "colab_type": "text"
      },
      "source": [
        "<a href=\"https://colab.research.google.com/github/SebasLion/Simulacion_1_Sebas/blob/main/Clase_12032024_Kolmogorov.ipynb\" target=\"_parent\"><img src=\"https://colab.research.google.com/assets/colab-badge.svg\" alt=\"Open In Colab\"/></a>"
      ]
    },
    {
      "cell_type": "markdown",
      "source": [
        "#Kolmogorov-Smirnov\n",
        "Es una prueba de frecuencia para determinar si existe una diferencia significativa entre una distribución de frecuencia observada y una teórica."
      ],
      "metadata": {
        "id": "fGvjX8zTzX7M"
      }
    },
    {
      "cell_type": "code",
      "execution_count": 8,
      "metadata": {
        "colab": {
          "base_uri": "https://localhost:8080/"
        },
        "id": "X6TLrMZ7BQPE",
        "outputId": "5fcfba34-2fd0-4347-8ff8-d5596110c98a"
      },
      "outputs": [
        {
          "output_type": "stream",
          "name": "stdout",
          "text": [
            "Lista ordenada: de menor a mayor [0.0318, 0.0856, 0.0954, 0.1492, 0.1525, 0.1592, 0.2006, 0.2088, 0.2204, 0.2258, 0.2415, 0.3188, 0.3254, 0.341, 0.3469, 0.3681, 0.3808, 0.3884, 0.4272, 0.4557, 0.4603, 0.472, 0.5027, 0.5291, 0.5461, 0.5613, 0.5739, 0.5844, 0.5991, 0.5992, 0.5999, 0.6235, 0.6289, 0.636, 0.6431, 0.7387, 0.7401, 0.7977, 0.8147, 0.8376, 0.8536, 0.8589, 0.8681, 0.875, 0.8797, 0.8846, 0.917, 0.9606, 0.9848, 0.9996]\n",
            "D+: 0.09879999999999997\n"
          ]
        }
      ],
      "source": [
        "l=[0.8797, 0.3884, 0.6289, 0.8750, 0.5999, 0.8589, 0.9996, 0.2415, 0.3808, 0.9606, 0.9848, 0.3469, 0.7977,\n",
        "         0.5844, 0.8147, 0.6431, 0.7387, 0.5613, 0.0318, 0.7401, 0.4557, 0.1592, 0.8536, 0.8846, 0.3410, 0.1492,\n",
        "         0.8681, 0.5291, 0.3188, 0.5992, 0.9170, 0.2204, 0.5991, 0.5461, 0.5739, 0.3254, 0.0856,\n",
        "         0.2258, 0.4603, 0.5027, 0.8376, 0.6235, 0.3681, 0.2088, 0.1525, 0.2006, 0.4720, 0.4272,0.6360,0.0954]\n",
        "import numpy as np\n",
        "import pprint as pp\n",
        "printer = pp.PrettyPrinter(indent=0, width=1)\n",
        "li=[]\n",
        "l.sort()\n",
        "print(\"Lista ordenada: de menor a mayor\",l) #1. Ordenar la lista de menor a mayor\n",
        "#print(len(l)) #len() sirve para contar la cantidad de elementos de una lista.\n",
        "j=len(l)\n",
        "#2. Se calcula D+, D- y D\n",
        "x=list(str(l)) #Convertimos en lista\n",
        "#Código para calcular D+\n",
        "for i in range(0,j):\n",
        " A=((i/j)-l[i]) #Fórmula para calcular los valores de D+\n",
        " DP=abs(A) #D+, abs() sirve para calcular el absoluto\n",
        " li.append(DP)\n",
        " #print(DP)\n",
        "m=np.max(li)\n",
        "print(\"D+:\",m)"
      ]
    },
    {
      "cell_type": "code",
      "source": [
        "import numpy as np\n",
        "li2=[]\n",
        "#Código para calcular D-\n",
        "for i in range(0,j):\n",
        " A=(l[i]-((i-1)/j)) #Fórmula para calcular los valores de D-\n",
        " DM=abs(A) #D-\n",
        " li2.append(DM)\n",
        "#print(DM)\n",
        "m2=np.max(li2)\n",
        "\n",
        "print(\"D-:\",m2)"
      ],
      "metadata": {
        "colab": {
          "base_uri": "https://localhost:8080/"
        },
        "id": "0KZv0eVfJZ5K",
        "outputId": "187128f4-88a5-4bef-c21c-57d5cb37fca1"
      },
      "execution_count": 10,
      "outputs": [
        {
          "output_type": "stream",
          "name": "stdout",
          "text": [
            "D-: 0.11879999999999996\n"
          ]
        }
      ]
    },
    {
      "cell_type": "code",
      "source": [
        "#Código para calcular D\n",
        "print(\"D+:\",m)\n",
        "print(\"D-:\",m2)\n",
        "DE=[m, m2] #Metemos en una lista los valores de D+ & D-\n",
        "D=np.max(DE) #Usamos una función para ver cuál es más \"grande\"\n",
        "print(\"D es:\",D)"
      ],
      "metadata": {
        "colab": {
          "base_uri": "https://localhost:8080/"
        },
        "id": "7l8T9V0vM_pC",
        "outputId": "6fbe882a-bbe3-40e4-bea9-fc60d07139e5"
      },
      "execution_count": 13,
      "outputs": [
        {
          "output_type": "stream",
          "name": "stdout",
          "text": [
            "D+: 0.09879999999999997\n",
            "D-: 0.11879999999999996\n",
            "D es: 0.11879999999999996\n"
          ]
        }
      ]
    },
    {
      "cell_type": "code",
      "source": [
        "#3. Comparamos con el valor crítico d_a,n\n",
        "dalf=0.1246 #Este valor se obtuvo de la tabla \"Tabla de Lilliefors\"\n",
        "if D<dalf:\n",
        "  print(\"Se acepta la hipótesis\")\n",
        "else:\n",
        "  print(\"Se niega la hipótesis\")"
      ],
      "metadata": {
        "colab": {
          "base_uri": "https://localhost:8080/"
        },
        "id": "iXDPv7ZVA-XH",
        "outputId": "b24f6b5f-aff6-42c0-f1a7-00c5bf01b232"
      },
      "execution_count": 12,
      "outputs": [
        {
          "output_type": "stream",
          "name": "stdout",
          "text": [
            "Se acepta la hipótesis\n"
          ]
        }
      ]
    },
    {
      "cell_type": "code",
      "source": [],
      "metadata": {
        "id": "JEE2QPTbB-P5"
      },
      "execution_count": null,
      "outputs": []
    }
  ]
}